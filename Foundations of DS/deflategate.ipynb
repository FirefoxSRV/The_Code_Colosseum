{
  "nbformat": 4,
  "nbformat_minor": 0,
  "metadata": {
    "colab": {
      "provenance": []
    },
    "kernelspec": {
      "name": "python3",
      "display_name": "Python 3"
    },
    "language_info": {
      "name": "python"
    }
  },
  "cells": [
    {
      "cell_type": "code",
      "execution_count": null,
      "metadata": {
        "id": "CcQE25AHEaxO"
      },
      "outputs": [],
      "source": [
        "from datascience import *\n",
        "%matplotlib inline\n",
        "path_data = '../../../assets/data/'\n",
        "import matplotlib.pyplot as plots\n",
        "plots.style.use('fivethirtyeight')\n",
        "import numpy as np"
      ]
    },
    {
      "cell_type": "code",
      "source": [
        "football = Table.read_table('deflategate.csv')\n",
        "football.show()"
      ],
      "metadata": {
        "colab": {
          "base_uri": "https://localhost:8080/",
          "height": 519
        },
        "id": "5oXwyNM8EclX",
        "outputId": "20b599d2-5c04-48bb-e691-6c6a6ae8086b"
      },
      "execution_count": null,
      "outputs": [
        {
          "output_type": "display_data",
          "data": {
            "text/plain": [
              "<IPython.core.display.HTML object>"
            ],
            "text/html": [
              "<table border=\"1\" class=\"dataframe\">\n",
              "    <thead>\n",
              "        <tr>\n",
              "            <th>Team</th> <th>Blakeman</th> <th>Prioleau</th>\n",
              "        </tr>\n",
              "    </thead>\n",
              "    <tbody>\n",
              "        <tr>\n",
              "            <td>Patriots</td> <td>11.5    </td> <td>11.8    </td>\n",
              "        </tr>\n",
              "        <tr>\n",
              "            <td>Patriots</td> <td>10.85   </td> <td>11.2    </td>\n",
              "        </tr>\n",
              "        <tr>\n",
              "            <td>Patriots</td> <td>11.15   </td> <td>11.5    </td>\n",
              "        </tr>\n",
              "        <tr>\n",
              "            <td>Patriots</td> <td>10.7    </td> <td>11      </td>\n",
              "        </tr>\n",
              "        <tr>\n",
              "            <td>Patriots</td> <td>11.1    </td> <td>11.45   </td>\n",
              "        </tr>\n",
              "        <tr>\n",
              "            <td>Patriots</td> <td>11.6    </td> <td>11.95   </td>\n",
              "        </tr>\n",
              "        <tr>\n",
              "            <td>Patriots</td> <td>11.85   </td> <td>12.3    </td>\n",
              "        </tr>\n",
              "        <tr>\n",
              "            <td>Patriots</td> <td>11.1    </td> <td>11.55   </td>\n",
              "        </tr>\n",
              "        <tr>\n",
              "            <td>Patriots</td> <td>10.95   </td> <td>11.35   </td>\n",
              "        </tr>\n",
              "        <tr>\n",
              "            <td>Patriots</td> <td>10.5    </td> <td>10.9    </td>\n",
              "        </tr>\n",
              "        <tr>\n",
              "            <td>Patriots</td> <td>10.9    </td> <td>11.35   </td>\n",
              "        </tr>\n",
              "        <tr>\n",
              "            <td>Colts   </td> <td>12.7    </td> <td>12.35   </td>\n",
              "        </tr>\n",
              "        <tr>\n",
              "            <td>Colts   </td> <td>12.75   </td> <td>12.3    </td>\n",
              "        </tr>\n",
              "        <tr>\n",
              "            <td>Colts   </td> <td>12.5    </td> <td>12.95   </td>\n",
              "        </tr>\n",
              "        <tr>\n",
              "            <td>Colts   </td> <td>12.55   </td> <td>12.15   </td>\n",
              "        </tr>\n",
              "    </tbody>\n",
              "</table>"
            ]
          },
          "metadata": {}
        }
      ]
    },
    {
      "cell_type": "code",
      "source": [
        "football = football.with_column(\n",
        "    'Combined', (football.column(1)+football.column(2))/2\n",
        "    ).drop(1, 2)\n",
        "football.show()"
      ],
      "metadata": {
        "colab": {
          "base_uri": "https://localhost:8080/",
          "height": 519
        },
        "id": "BofdZ5ICEc4m",
        "outputId": "f2aeaf08-53fe-4c79-eb39-30d213d71b07"
      },
      "execution_count": null,
      "outputs": [
        {
          "output_type": "display_data",
          "data": {
            "text/plain": [
              "<IPython.core.display.HTML object>"
            ],
            "text/html": [
              "<table border=\"1\" class=\"dataframe\">\n",
              "    <thead>\n",
              "        <tr>\n",
              "            <th>Team</th> <th>Combined</th>\n",
              "        </tr>\n",
              "    </thead>\n",
              "    <tbody>\n",
              "        <tr>\n",
              "            <td>Patriots</td> <td>11.65   </td>\n",
              "        </tr>\n",
              "        <tr>\n",
              "            <td>Patriots</td> <td>11.025  </td>\n",
              "        </tr>\n",
              "        <tr>\n",
              "            <td>Patriots</td> <td>11.325  </td>\n",
              "        </tr>\n",
              "        <tr>\n",
              "            <td>Patriots</td> <td>10.85   </td>\n",
              "        </tr>\n",
              "        <tr>\n",
              "            <td>Patriots</td> <td>11.275  </td>\n",
              "        </tr>\n",
              "        <tr>\n",
              "            <td>Patriots</td> <td>11.775  </td>\n",
              "        </tr>\n",
              "        <tr>\n",
              "            <td>Patriots</td> <td>12.075  </td>\n",
              "        </tr>\n",
              "        <tr>\n",
              "            <td>Patriots</td> <td>11.325  </td>\n",
              "        </tr>\n",
              "        <tr>\n",
              "            <td>Patriots</td> <td>11.15   </td>\n",
              "        </tr>\n",
              "        <tr>\n",
              "            <td>Patriots</td> <td>10.7    </td>\n",
              "        </tr>\n",
              "        <tr>\n",
              "            <td>Patriots</td> <td>11.125  </td>\n",
              "        </tr>\n",
              "        <tr>\n",
              "            <td>Colts   </td> <td>12.525  </td>\n",
              "        </tr>\n",
              "        <tr>\n",
              "            <td>Colts   </td> <td>12.525  </td>\n",
              "        </tr>\n",
              "        <tr>\n",
              "            <td>Colts   </td> <td>12.725  </td>\n",
              "        </tr>\n",
              "        <tr>\n",
              "            <td>Colts   </td> <td>12.35   </td>\n",
              "        </tr>\n",
              "    </tbody>\n",
              "</table>"
            ]
          },
          "metadata": {}
        }
      ]
    },
    {
      "cell_type": "code",
      "source": [
        "np.ones(11)"
      ],
      "metadata": {
        "colab": {
          "base_uri": "https://localhost:8080/"
        },
        "id": "adbQ0Q0VEfcc",
        "outputId": "3d6e14f1-366e-4bad-cd06-d0a172779561"
      },
      "execution_count": null,
      "outputs": [
        {
          "output_type": "execute_result",
          "data": {
            "text/plain": [
              "array([ 1.,  1.,  1.,  1.,  1.,  1.,  1.,  1.,  1.,  1.,  1.])"
            ]
          },
          "metadata": {},
          "execution_count": 5
        }
      ]
    },
    {
      "cell_type": "code",
      "source": [
        "patriots_start = 12.5 * np.ones(11)\n",
        "colts_start = 13 * np.ones(4)\n",
        "start = np.append(patriots_start, colts_start)\n",
        "start"
      ],
      "metadata": {
        "colab": {
          "base_uri": "https://localhost:8080/"
        },
        "id": "cOuT5WrpEf5o",
        "outputId": "51176d20-cb21-4d66-ff75-4b1608ac641d"
      },
      "execution_count": null,
      "outputs": [
        {
          "output_type": "execute_result",
          "data": {
            "text/plain": [
              "array([ 12.5,  12.5,  12.5,  12.5,  12.5,  12.5,  12.5,  12.5,  12.5,\n",
              "        12.5,  12.5,  13. ,  13. ,  13. ,  13. ])"
            ]
          },
          "metadata": {},
          "execution_count": 6
        }
      ]
    },
    {
      "cell_type": "code",
      "source": [
        "drop = start - football.column('Combined')\n",
        "football = football.with_column('Pressure Drop', drop)\n",
        "football.show()"
      ],
      "metadata": {
        "colab": {
          "base_uri": "https://localhost:8080/",
          "height": 519
        },
        "id": "FyVEk89GEhrO",
        "outputId": "99c4ce8e-54c6-481b-9012-417350c5e183"
      },
      "execution_count": null,
      "outputs": [
        {
          "output_type": "display_data",
          "data": {
            "text/plain": [
              "<IPython.core.display.HTML object>"
            ],
            "text/html": [
              "<table border=\"1\" class=\"dataframe\">\n",
              "    <thead>\n",
              "        <tr>\n",
              "            <th>Team</th> <th>Combined</th> <th>Pressure Drop</th>\n",
              "        </tr>\n",
              "    </thead>\n",
              "    <tbody>\n",
              "        <tr>\n",
              "            <td>Patriots</td> <td>11.65   </td> <td>0.85         </td>\n",
              "        </tr>\n",
              "        <tr>\n",
              "            <td>Patriots</td> <td>11.025  </td> <td>1.475        </td>\n",
              "        </tr>\n",
              "        <tr>\n",
              "            <td>Patriots</td> <td>11.325  </td> <td>1.175        </td>\n",
              "        </tr>\n",
              "        <tr>\n",
              "            <td>Patriots</td> <td>10.85   </td> <td>1.65         </td>\n",
              "        </tr>\n",
              "        <tr>\n",
              "            <td>Patriots</td> <td>11.275  </td> <td>1.225        </td>\n",
              "        </tr>\n",
              "        <tr>\n",
              "            <td>Patriots</td> <td>11.775  </td> <td>0.725        </td>\n",
              "        </tr>\n",
              "        <tr>\n",
              "            <td>Patriots</td> <td>12.075  </td> <td>0.425        </td>\n",
              "        </tr>\n",
              "        <tr>\n",
              "            <td>Patriots</td> <td>11.325  </td> <td>1.175        </td>\n",
              "        </tr>\n",
              "        <tr>\n",
              "            <td>Patriots</td> <td>11.15   </td> <td>1.35         </td>\n",
              "        </tr>\n",
              "        <tr>\n",
              "            <td>Patriots</td> <td>10.7    </td> <td>1.8          </td>\n",
              "        </tr>\n",
              "        <tr>\n",
              "            <td>Patriots</td> <td>11.125  </td> <td>1.375        </td>\n",
              "        </tr>\n",
              "        <tr>\n",
              "            <td>Colts   </td> <td>12.525  </td> <td>0.475        </td>\n",
              "        </tr>\n",
              "        <tr>\n",
              "            <td>Colts   </td> <td>12.525  </td> <td>0.475        </td>\n",
              "        </tr>\n",
              "        <tr>\n",
              "            <td>Colts   </td> <td>12.725  </td> <td>0.275        </td>\n",
              "        </tr>\n",
              "        <tr>\n",
              "            <td>Colts   </td> <td>12.35   </td> <td>0.65         </td>\n",
              "        </tr>\n",
              "    </tbody>\n",
              "</table>"
            ]
          },
          "metadata": {}
        }
      ]
    },
    {
      "cell_type": "code",
      "source": [
        "football = football.drop('Combined')\n",
        "football.group('Team', np.average)"
      ],
      "metadata": {
        "colab": {
          "base_uri": "https://localhost:8080/",
          "height": 112
        },
        "id": "4mE6K57-EkWB",
        "outputId": "cbff930d-6ce8-40ec-e9b6-b33e793cf5fb"
      },
      "execution_count": null,
      "outputs": [
        {
          "output_type": "execute_result",
          "data": {
            "text/plain": [
              "Team     | Pressure Drop average\n",
              "Colts    | 0.46875\n",
              "Patriots | 1.20227"
            ],
            "text/html": [
              "<table border=\"1\" class=\"dataframe\">\n",
              "    <thead>\n",
              "        <tr>\n",
              "            <th>Team</th> <th>Pressure Drop average</th>\n",
              "        </tr>\n",
              "    </thead>\n",
              "    <tbody>\n",
              "        <tr>\n",
              "            <td>Colts   </td> <td>0.46875              </td>\n",
              "        </tr>\n",
              "        <tr>\n",
              "            <td>Patriots</td> <td>1.20227              </td>\n",
              "        </tr>\n",
              "    </tbody>\n",
              "</table>"
            ]
          },
          "metadata": {},
          "execution_count": 8
        }
      ]
    },
    {
      "cell_type": "code",
      "source": [
        "observed_means = football.group('Team', np.average).column(1)\n",
        "\n",
        "observed_difference = observed_means.item(1) - observed_means.item(0)\n",
        "observed_difference"
      ],
      "metadata": {
        "colab": {
          "base_uri": "https://localhost:8080/"
        },
        "id": "IJ_nyppZEl9O",
        "outputId": "66f929eb-b813-49dd-bd15-2505331baf09"
      },
      "execution_count": null,
      "outputs": [
        {
          "output_type": "execute_result",
          "data": {
            "text/plain": [
              "0.733522727272728"
            ]
          },
          "metadata": {},
          "execution_count": 9
        }
      ]
    },
    {
      "cell_type": "code",
      "source": [
        "def difference_of_means(table, group_label):\n",
        "    reduced = table.select('Pressure Drop', group_label)\n",
        "    means_table = reduced.group(group_label, np.average)\n",
        "    means = means_table.column(1)\n",
        "    return means.item(1) - means.item(0)"
      ],
      "metadata": {
        "id": "GNuzJcJBEo8S"
      },
      "execution_count": null,
      "outputs": []
    },
    {
      "cell_type": "code",
      "source": [
        "difference_of_means(football, 'Team')"
      ],
      "metadata": {
        "colab": {
          "base_uri": "https://localhost:8080/"
        },
        "id": "Qel6PRX3ErQp",
        "outputId": "c7e96b3e-e8db-4757-f2b8-c767d2471bfc"
      },
      "execution_count": null,
      "outputs": [
        {
          "output_type": "execute_result",
          "data": {
            "text/plain": [
              "0.733522727272728"
            ]
          },
          "metadata": {},
          "execution_count": 11
        }
      ]
    },
    {
      "cell_type": "code",
      "source": [
        "shuffled_labels = football.sample(with_replacement=False).column(0)\n",
        "original_and_shuffled = football.with_column('Shuffled Label', shuffled_labels)\n",
        "original_and_shuffled.show()"
      ],
      "metadata": {
        "colab": {
          "base_uri": "https://localhost:8080/",
          "height": 519
        },
        "id": "gLPVd6PhEsmD",
        "outputId": "4de04d7a-a38c-47ca-c312-f0a529cebe4e"
      },
      "execution_count": null,
      "outputs": [
        {
          "output_type": "display_data",
          "data": {
            "text/plain": [
              "<IPython.core.display.HTML object>"
            ],
            "text/html": [
              "<table border=\"1\" class=\"dataframe\">\n",
              "    <thead>\n",
              "        <tr>\n",
              "            <th>Team</th> <th>Pressure Drop</th> <th>Shuffled Label</th>\n",
              "        </tr>\n",
              "    </thead>\n",
              "    <tbody>\n",
              "        <tr>\n",
              "            <td>Patriots</td> <td>0.85         </td> <td>Colts         </td>\n",
              "        </tr>\n",
              "        <tr>\n",
              "            <td>Patriots</td> <td>1.475        </td> <td>Patriots      </td>\n",
              "        </tr>\n",
              "        <tr>\n",
              "            <td>Patriots</td> <td>1.175        </td> <td>Colts         </td>\n",
              "        </tr>\n",
              "        <tr>\n",
              "            <td>Patriots</td> <td>1.65         </td> <td>Patriots      </td>\n",
              "        </tr>\n",
              "        <tr>\n",
              "            <td>Patriots</td> <td>1.225        </td> <td>Patriots      </td>\n",
              "        </tr>\n",
              "        <tr>\n",
              "            <td>Patriots</td> <td>0.725        </td> <td>Patriots      </td>\n",
              "        </tr>\n",
              "        <tr>\n",
              "            <td>Patriots</td> <td>0.425        </td> <td>Patriots      </td>\n",
              "        </tr>\n",
              "        <tr>\n",
              "            <td>Patriots</td> <td>1.175        </td> <td>Patriots      </td>\n",
              "        </tr>\n",
              "        <tr>\n",
              "            <td>Patriots</td> <td>1.35         </td> <td>Patriots      </td>\n",
              "        </tr>\n",
              "        <tr>\n",
              "            <td>Patriots</td> <td>1.8          </td> <td>Patriots      </td>\n",
              "        </tr>\n",
              "        <tr>\n",
              "            <td>Patriots</td> <td>1.375        </td> <td>Patriots      </td>\n",
              "        </tr>\n",
              "        <tr>\n",
              "            <td>Colts   </td> <td>0.475        </td> <td>Colts         </td>\n",
              "        </tr>\n",
              "        <tr>\n",
              "            <td>Colts   </td> <td>0.475        </td> <td>Colts         </td>\n",
              "        </tr>\n",
              "        <tr>\n",
              "            <td>Colts   </td> <td>0.275        </td> <td>Patriots      </td>\n",
              "        </tr>\n",
              "        <tr>\n",
              "            <td>Colts   </td> <td>0.65         </td> <td>Patriots      </td>\n",
              "        </tr>\n",
              "    </tbody>\n",
              "</table>"
            ]
          },
          "metadata": {}
        }
      ]
    },
    {
      "cell_type": "code",
      "source": [
        "difference_of_means(original_and_shuffled, 'Shuffled Label')"
      ],
      "metadata": {
        "colab": {
          "base_uri": "https://localhost:8080/"
        },
        "id": "GPO59T5vE1eh",
        "outputId": "5c1fe21f-1501-4674-9644-c17706b25dd3"
      },
      "execution_count": null,
      "outputs": [
        {
          "output_type": "execute_result",
          "data": {
            "text/plain": [
              "0.3585227272727276"
            ]
          },
          "metadata": {},
          "execution_count": 13
        }
      ]
    },
    {
      "cell_type": "code",
      "source": [
        "difference_of_means(original_and_shuffled, 'Team')"
      ],
      "metadata": {
        "colab": {
          "base_uri": "https://localhost:8080/"
        },
        "id": "nr53MQHuE2lW",
        "outputId": "f7760fc2-d079-4f93-c451-f3f277096a86"
      },
      "execution_count": null,
      "outputs": [
        {
          "output_type": "execute_result",
          "data": {
            "text/plain": [
              "0.733522727272728"
            ]
          },
          "metadata": {},
          "execution_count": 14
        }
      ]
    },
    {
      "cell_type": "code",
      "source": [
        "def one_simulated_difference():\n",
        "    shuffled_labels = football.sample(with_replacement = False\n",
        "                                                    ).column('Team')\n",
        "    shuffled_table = football.select('Pressure Drop').with_column(\n",
        "        'Shuffled Label', shuffled_labels)\n",
        "    return difference_of_means(shuffled_table, 'Shuffled Label')"
      ],
      "metadata": {
        "id": "OokrUiyCE3nF"
      },
      "execution_count": null,
      "outputs": []
    },
    {
      "cell_type": "code",
      "source": [
        "differences = make_array()\n",
        "\n",
        "repetitions = 10000\n",
        "for i in np.arange(repetitions):\n",
        "    new_difference = one_simulated_difference()\n",
        "    differences = np.append(differences, new_difference)"
      ],
      "metadata": {
        "id": "-q3ZgQ5BE4iP"
      },
      "execution_count": null,
      "outputs": []
    },
    {
      "cell_type": "code",
      "source": [
        "Table().with_column(\n",
        "    'Difference Between Group Averages', differences).hist(\n",
        "    left_end = observed_difference\n",
        ")\n",
        "plots.ylim(-0.1, 1.4)\n",
        "plots.scatter(observed_difference, 0, color='red', s=30, zorder=3)\n",
        "plots.title('Prediction Under the Null Hypothesis')\n",
        "print('Observed Difference:', observed_difference)"
      ],
      "metadata": {
        "colab": {
          "base_uri": "https://localhost:8080/",
          "height": 458
        },
        "id": "y_cMg4RoE5m2",
        "outputId": "aa0b3ebe-bb1c-4366-a33e-02e7e78453b9"
      },
      "execution_count": null,
      "outputs": [
        {
          "output_type": "stream",
          "name": "stdout",
          "text": [
            "Observed Difference: 0.733522727272728\n"
          ]
        },
        {
          "output_type": "display_data",
          "data": {
            "text/plain": [
              "<Figure size 600x400 with 1 Axes>"
            ],
            "image/png": "[encoded data removed]"
          },
          "metadata": {}
        }
      ]
    },
    {
      "cell_type": "code",
      "source": [
        "empirical_p = np.count_nonzero(differences >= observed_difference) / 10000\n",
        "empirical_p"
      ],
      "metadata": {
        "colab": {
          "base_uri": "https://localhost:8080/"
        },
        "id": "bIOo-OwqE7CF",
        "outputId": "ee95a137-f6ff-40f7-87b1-4d4606b1c4fc"
      },
      "execution_count": null,
      "outputs": [
        {
          "output_type": "execute_result",
          "data": {
            "text/plain": [
              "0.0035"
            ]
          },
          "metadata": {},
          "execution_count": 18
        }
      ]
    }
  ]
}