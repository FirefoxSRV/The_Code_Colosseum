{
  "nbformat": 4,
  "nbformat_minor": 0,
  "metadata": {
    "colab": {
      "provenance": []
    },
    "kernelspec": {
      "name": "python3",
      "display_name": "Python 3"
    },
    "language_info": {
      "name": "python"
    }
  },
  "cells": [
    {
      "cell_type": "code",
      "execution_count": null,
      "metadata": {
        "id": "oHJTt2oLiBR4"
      },
      "outputs": [],
      "source": [
        "import numpy as np"
      ]
    },
    {
      "cell_type": "markdown",
      "source": [
        "# **Ones, zeros and empty**"
      ],
      "metadata": {
        "id": "V3gXzuWtjaIE"
      }
    },
    {
      "cell_type": "code",
      "source": [
        "#Create an empty numpy array\n",
        "arr = np.empty((2,3))\n",
        "arr"
      ],
      "metadata": {
        "colab": {
          "base_uri": "https://localhost:8080/"
        },
        "id": "_MIJJqNyiGm4",
        "outputId": "3e993311-46ce-4423-9c92-a79541ef643b"
      },
      "execution_count": null,
      "outputs": [
        {
          "output_type": "execute_result",
          "data": {
            "text/plain": [
              "array([[4.89656118e-310, 0.00000000e+000, 2.05833592e-312],\n",
              "       [6.79038654e-313, 2.14321575e-312, 2.27053550e-312]])"
            ]
          },
          "metadata": {},
          "execution_count": 5
        }
      ]
    },
    {
      "cell_type": "code",
      "source": [
        "arr = np.empty(2)  # 1d array\n",
        "arr"
      ],
      "metadata": {
        "colab": {
          "base_uri": "https://localhost:8080/"
        },
        "id": "jzPsx53fiU66",
        "outputId": "d5747eb0-c8f2-4119-f221-3e87968ad9b6"
      },
      "execution_count": null,
      "outputs": [
        {
          "output_type": "execute_result",
          "data": {
            "text/plain": [
              "array([2.0000000e+000, 6.6761277e-310])"
            ]
          },
          "metadata": {},
          "execution_count": 6
        }
      ]
    },
    {
      "cell_type": "code",
      "source": [
        "arr = np.ones(2) # 1 d\n",
        "arr"
      ],
      "metadata": {
        "colab": {
          "base_uri": "https://localhost:8080/"
        },
        "id": "1bgomZ2FiYnJ",
        "outputId": "8d99805c-ad23-42f3-9ba8-95f6f92a165c"
      },
      "execution_count": null,
      "outputs": [
        {
          "output_type": "execute_result",
          "data": {
            "text/plain": [
              "array([1., 1.])"
            ]
          },
          "metadata": {},
          "execution_count": 8
        }
      ]
    },
    {
      "cell_type": "code",
      "source": [
        "arr = np.ones((2,3)) # multiple dim\n",
        "arr"
      ],
      "metadata": {
        "colab": {
          "base_uri": "https://localhost:8080/"
        },
        "id": "y4kyE78DifxH",
        "outputId": "d6359cab-2b3a-4f16-cdf5-0f9bd7499638"
      },
      "execution_count": null,
      "outputs": [
        {
          "output_type": "execute_result",
          "data": {
            "text/plain": [
              "array([[1., 1., 1.],\n",
              "       [1., 1., 1.]])"
            ]
          },
          "metadata": {},
          "execution_count": 11
        }
      ]
    },
    {
      "cell_type": "code",
      "source": [
        "arr = np.zeros(2)\n",
        "arr"
      ],
      "metadata": {
        "colab": {
          "base_uri": "https://localhost:8080/"
        },
        "id": "Bxq_KWW8im0C",
        "outputId": "589ec59d-f7dd-4a0e-f463-49e4c2303bf2"
      },
      "execution_count": null,
      "outputs": [
        {
          "output_type": "execute_result",
          "data": {
            "text/plain": [
              "array([0., 0.])"
            ]
          },
          "metadata": {},
          "execution_count": 13
        }
      ]
    },
    {
      "cell_type": "code",
      "source": [
        "arr = np.zeros((2,3))\n",
        "arr"
      ],
      "metadata": {
        "colab": {
          "base_uri": "https://localhost:8080/"
        },
        "id": "tJpdKY2Cisbv",
        "outputId": "913d4c59-6cbd-49ef-c68d-7963017f9189"
      },
      "execution_count": null,
      "outputs": [
        {
          "output_type": "execute_result",
          "data": {
            "text/plain": [
              "array([[0., 0., 0.],\n",
              "       [0., 0., 0.]])"
            ]
          },
          "metadata": {},
          "execution_count": 15
        }
      ]
    },
    {
      "cell_type": "markdown",
      "source": [
        "# Check if a row in contained in a numpy array - a numpy array has .tolist()"
      ],
      "metadata": {
        "id": "1VEBHBvRjQOk"
      }
    },
    {
      "cell_type": "code",
      "source": [
        "arr = np.array([[1,2,3,4,5],\n",
        "       [6,7,8,9,10],\n",
        "       [11,12,13,14,15]])\n",
        "\n",
        "print([1,2,3,4,5] in arr.tolist())"
      ],
      "metadata": {
        "colab": {
          "base_uri": "https://localhost:8080/"
        },
        "id": "QfdPwfpKivfF",
        "outputId": "e785628a-a3cc-48c0-8bda-29e1d4364c5a"
      },
      "execution_count": null,
      "outputs": [
        {
          "output_type": "stream",
          "name": "stdout",
          "text": [
            "True\n"
          ]
        }
      ]
    },
    {
      "cell_type": "markdown",
      "source": [
        "# Remove all rows containing non-numeric elements"
      ],
      "metadata": {
        "id": "sS83Ymqnl9Zw"
      }
    },
    {
      "cell_type": "code",
      "source": [
        "arr = np.array([[10.5, 22.5, 3.8],\n",
        "                  [41, np.nan, np.nan]])\n",
        "print(arr[np.invert(np.isnan(arr).any(axis=1))])"
      ],
      "metadata": {
        "colab": {
          "base_uri": "https://localhost:8080/"
        },
        "id": "V-Tze-4CmDAY",
        "outputId": "d8132e14-b3df-480f-ea1d-46c1b0eaf366"
      },
      "execution_count": 39,
      "outputs": [
        {
          "output_type": "stream",
          "name": "stdout",
          "text": [
            "[[10.5 22.5  3.8]]\n"
          ]
        }
      ]
    },
    {
      "cell_type": "markdown",
      "source": [
        "OR"
      ],
      "metadata": {
        "id": "FwNiZIjungFf"
      }
    },
    {
      "cell_type": "code",
      "source": [
        "arr = np.array([[10.5, 22.5, 3.8],\n",
        "                  [41, np.nan, np.nan]])\n",
        "print(arr[~np.isnan(arr).any(axis=1)])"
      ],
      "metadata": {
        "colab": {
          "base_uri": "https://localhost:8080/"
        },
        "id": "3dX1thEinfZ3",
        "outputId": "e064dc96-0803-4c3a-b200-c23c25bcf8ae"
      },
      "execution_count": 40,
      "outputs": [
        {
          "output_type": "stream",
          "name": "stdout",
          "text": [
            "[[10.5 22.5  3.8]]\n"
          ]
        }
      ]
    },
    {
      "cell_type": "markdown",
      "source": [
        "## LOL, this is a way to remove all np.nan\n"
      ],
      "metadata": {
        "id": "JL-GGviZn8lv"
      }
    },
    {
      "cell_type": "code",
      "source": [
        "arr = np.array([[10.5, 22.5, 3.8],\n",
        "                  [41, np.nan, np.nan]])\n"
      ],
      "metadata": {
        "id": "xoDQSYSEnkSA"
      },
      "execution_count": 45,
      "outputs": []
    },
    {
      "cell_type": "code",
      "source": [
        "#My own\n",
        "#Change all nan's to zeroes\n",
        "arr = np.array([[10.5, 22.5, 3.8],\n",
        "                  [41, np.nan, np.nan]])\n",
        "\n",
        "arr[arr != arr] = 0\n",
        "\n",
        "print(arr)"
      ],
      "metadata": {
        "colab": {
          "base_uri": "https://localhost:8080/"
        },
        "id": "uA1-kTl4oeMb",
        "outputId": "01e1f2e9-5d75-4114-df0d-fc37540a3b18"
      },
      "execution_count": 44,
      "outputs": [
        {
          "output_type": "stream",
          "name": "stdout",
          "text": [
            "[[10.5 22.5  3.8]\n",
            " [41.   0.   0. ]]\n"
          ]
        }
      ]
    },
    {
      "cell_type": "markdown",
      "source": [
        "# Compress / squeeze your array to a smaller dim"
      ],
      "metadata": {
        "id": "56MNS1f7yuxX"
      }
    },
    {
      "cell_type": "code",
      "source": [
        "arr=[[[1,2,3]]]\n",
        "print(np.squeeze(arr))"
      ],
      "metadata": {
        "colab": {
          "base_uri": "https://localhost:8080/"
        },
        "id": "1HwvLBznoneQ",
        "outputId": "958317a7-2ae6-49d5-9334-c2fd94a22ba7"
      },
      "execution_count": 47,
      "outputs": [
        {
          "output_type": "stream",
          "name": "stdout",
          "text": [
            "[1 2 3]\n"
          ]
        }
      ]
    },
    {
      "cell_type": "markdown",
      "source": [
        "# arange function to initialize array"
      ],
      "metadata": {
        "id": "PbtQCQfXy18d"
      }
    },
    {
      "cell_type": "code",
      "source": [
        "arr = np.arange(3)\n",
        "print(arr)\n",
        "arr1 = np.arange(1,6,2) # Start, end and skip\n",
        "print(arr1)"
      ],
      "metadata": {
        "colab": {
          "base_uri": "https://localhost:8080/"
        },
        "id": "v009z6fYy8Mo",
        "outputId": "6710c8bd-2240-48ec-b19f-e7032567deff"
      },
      "execution_count": 53,
      "outputs": [
        {
          "output_type": "stream",
          "name": "stdout",
          "text": [
            "[0 1 2]\n",
            "[1 3 5]\n"
          ]
        }
      ]
    },
    {
      "cell_type": "markdown",
      "source": [
        "# reshape func - very Important"
      ],
      "metadata": {
        "id": "RRoiLhEt0NSh"
      }
    },
    {
      "cell_type": "code",
      "source": [
        "arr = np.arange(10)\n",
        "print(arr.reshape(2,5))"
      ],
      "metadata": {
        "colab": {
          "base_uri": "https://localhost:8080/"
        },
        "id": "ffKKXxjqz7IC",
        "outputId": "2b6c80cb-3ec0-43b4-e1dd-e3d17f2df2ce"
      },
      "execution_count": 58,
      "outputs": [
        {
          "output_type": "stream",
          "name": "stdout",
          "text": [
            "[[0 1 2 3 4]\n",
            " [5 6 7 8 9]]\n"
          ]
        }
      ]
    },
    {
      "cell_type": "markdown",
      "source": [
        "OR"
      ],
      "metadata": {
        "id": "Yt5vSHJW2J0A"
      }
    },
    {
      "cell_type": "code",
      "source": [
        "arr = np.arange(10)\n",
        "print(np.reshape(arr,(2,5)))"
      ],
      "metadata": {
        "colab": {
          "base_uri": "https://localhost:8080/"
        },
        "id": "J7ZkYeFx2IrU",
        "outputId": "52973b84-bd40-47ab-9e98-b3ffa543e65f"
      },
      "execution_count": 61,
      "outputs": [
        {
          "output_type": "stream",
          "name": "stdout",
          "text": [
            "[[0 1 2 3 4]\n",
            " [5 6 7 8 9]]\n"
          ]
        }
      ]
    },
    {
      "cell_type": "markdown",
      "source": [
        "Number of occurences of a sequence in a numpy array"
      ],
      "metadata": {
        "id": "AtSibHsn4ZLG"
      }
    },
    {
      "cell_type": "code",
      "source": [
        "arr = np.array([[2, 8, 9, 4],\n",
        "                   [9, 4, 9, 4],\n",
        "                   [4, 5, 9, 7],\n",
        "                   [2, 9, 4, np.nan]])\n",
        "output=repr(arr).count(\"9, 4\")\n",
        "output\n",
        "#Just me trying\n",
        "print(arr.reshape(-1,1).squeeze())"
      ],
      "metadata": {
        "colab": {
          "base_uri": "https://localhost:8080/"
        },
        "id": "5QRgRlkr329s",
        "outputId": "a8986853-4198-489d-ecfe-0f7d5cef6eb3"
      },
      "execution_count": 83,
      "outputs": [
        {
          "output_type": "stream",
          "name": "stdout",
          "text": [
            "[ 2.  8.  9.  4.  9.  4.  9.  4.  4.  5.  9.  7.  2.  9.  4. nan]\n"
          ]
        }
      ]
    },
    {
      "cell_type": "markdown",
      "source": [
        "# COMPRESS"
      ],
      "metadata": {
        "id": "q8VStkqE76zd"
      }
    },
    {
      "cell_type": "markdown",
      "source": [
        "This is just too cool - [0,1] axis 1 -> omits first columns and fetches the 2nd column only"
      ],
      "metadata": {
        "id": "vQFilNhf7fo0"
      }
    },
    {
      "cell_type": "code",
      "source": [
        "arr = [[1,2],\n",
        "       [3,4],\n",
        "       [5,6]]\n",
        "\n",
        "print(np.compress([0,1],arr,axis=1))"
      ],
      "metadata": {
        "colab": {
          "base_uri": "https://localhost:8080/"
        },
        "id": "cHX7jaP865la",
        "outputId": "fbb2503a-6314-4f4e-e6e7-343cff37221f"
      },
      "execution_count": 91,
      "outputs": [
        {
          "output_type": "stream",
          "name": "stdout",
          "text": [
            "[[2]\n",
            " [4]\n",
            " [6]]\n"
          ]
        }
      ]
    },
    {
      "cell_type": "markdown",
      "source": [
        "# BINCOUNT"
      ],
      "metadata": {
        "id": "ZJqA37H68gl2"
      }
    },
    {
      "cell_type": "markdown",
      "source": [
        "Find the most frequent value in a NumPy array - returns a count array till max ( a small step similar to the counting sort )"
      ],
      "metadata": {
        "id": "K6vFa4kA8A46"
      }
    },
    {
      "cell_type": "code",
      "source": [
        "arr = [1,2,3,1,2,42,1,3,4,1,2,3,2,3,4,5,1,1,1,2,3,4,5,7]\n",
        "print(np.bincount(arr))\n",
        "print(np.bincount(arr)[np.bincount(arr).argmax()],\":\",np.bincount(arr).argmax())"
      ],
      "metadata": {
        "colab": {
          "base_uri": "https://localhost:8080/"
        },
        "id": "FY9D6oOv7_O3",
        "outputId": "68e657c2-3930-4dde-b976-72616bfc23c6"
      },
      "execution_count": 100,
      "outputs": [
        {
          "output_type": "stream",
          "name": "stdout",
          "text": [
            "[0 7 5 5 3 2 0 1 0 0 0 0 0 0 0 0 0 0 0 0 0 0 0 0 0 0 0 0 0 0 0 0 0 0 0 0 0\n",
            " 0 0 0 0 0 1]\n",
            "7 : 1\n"
          ]
        }
      ]
    },
    {
      "cell_type": "markdown",
      "source": [
        "# COMBINING 2 ARRAYS"
      ],
      "metadata": {
        "id": "TEgqUamO9G3g"
      }
    },
    {
      "cell_type": "markdown",
      "source": [
        "If a 1d array gets fully traversed, then second row of 2d array re-prints the 1d with itself for another iteration"
      ],
      "metadata": {
        "id": "64OuINBQI0_E"
      }
    },
    {
      "cell_type": "code",
      "source": [
        "num_1d = np.arange(5)\n",
        "print(\"One dimensional array:\")\n",
        "print(num_1d)\n",
        "\n",
        "num_2d = np.arange(10).reshape(2,5)\n",
        "print(\"\\nTwo dimensional array:\")\n",
        "print(num_2d)\n",
        "\n",
        "for a, b in np.nditer([num_1d, num_2d]):\n",
        "    print(\"%d:%d\" % (a, b),)"
      ],
      "metadata": {
        "colab": {
          "base_uri": "https://localhost:8080/"
        },
        "id": "76SNJgF68h2c",
        "outputId": "c592d537-a0fe-4be9-b41e-8e91db39acca"
      },
      "execution_count": 112,
      "outputs": [
        {
          "output_type": "stream",
          "name": "stdout",
          "text": [
            "One dimensional array:\n",
            "[0 1 2 3 4]\n",
            "\n",
            "Two dimensional array:\n",
            "[[0 1 2 3 4]\n",
            " [5 6 7 8 9]]\n",
            "0:0\n",
            "1:1\n",
            "2:2\n",
            "3:3\n",
            "4:4\n",
            "0:5\n",
            "1:6\n",
            "2:7\n",
            "3:8\n",
            "4:9\n"
          ]
        }
      ]
    },
    {
      "cell_type": "code",
      "source": [
        "array_1 = np.array([1, 2])\n",
        "array_2 = np.array([4, 6])\n",
        "np.meshgrid(array_1,array_2)"
      ],
      "metadata": {
        "colab": {
          "base_uri": "https://localhost:8080/"
        },
        "id": "AEe3bQB0Ixm4",
        "outputId": "4b64a61a-79ea-4f30-ae00-889e12aa62c4"
      },
      "execution_count": 122,
      "outputs": [
        {
          "output_type": "execute_result",
          "data": {
            "text/plain": [
              "[array([[1, 2],\n",
              "        [1, 2]]),\n",
              " array([[4, 4],\n",
              "        [6, 6]])]"
            ]
          },
          "metadata": {},
          "execution_count": 122
        }
      ]
    },
    {
      "cell_type": "markdown",
      "source": [
        "# Add a pad for the actual array"
      ],
      "metadata": {
        "id": "kja4j5AJQFOZ"
      }
    },
    {
      "cell_type": "code",
      "source": [
        "array = np.ones((2, 2))\n",
        "\n",
        "print(\"Original array\")\n",
        "print(array)\n",
        "\n",
        "print(\"\\n0 on the border and 1 inside the array\")\n",
        "array = np.pad(array, pad_width=1,constant_values=9)\n",
        "\n",
        "print(array)"
      ],
      "metadata": {
        "colab": {
          "base_uri": "https://localhost:8080/"
        },
        "id": "I7CN6MXgP9YN",
        "outputId": "ae72ae53-4d8c-4e23-9ca1-93416c85e6c5"
      },
      "execution_count": 128,
      "outputs": [
        {
          "output_type": "stream",
          "name": "stdout",
          "text": [
            "Original array\n",
            "[[1. 1.]\n",
            " [1. 1.]]\n",
            "\n",
            "0 on the border and 1 inside the array\n",
            "[[9. 9. 9. 9.]\n",
            " [9. 1. 1. 9.]\n",
            " [9. 1. 1. 9.]\n",
            " [9. 9. 9. 9.]]\n"
          ]
        }
      ]
    }
  ]
}