{
 "cells": [
  {
   "cell_type": "markdown",
   "source": [
    "# Assignment 3"
   ],
   "metadata": {
    "collapsed": false
   },
   "id": "cb3562e9aeaa4577"
  },
  {
   "cell_type": "markdown",
   "source": [
    "## Classifier Question 1"
   ],
   "metadata": {
    "collapsed": false
   },
   "id": "ab9a836a9ef644fa"
  },
  {
   "cell_type": "code",
   "execution_count": 25,
   "outputs": [],
   "source": [
    "import numpy as np\n",
    "import pandas as pd"
   ],
   "metadata": {
    "collapsed": false,
    "ExecuteTime": {
     "end_time": "2023-11-30T19:10:31.042519800Z",
     "start_time": "2023-11-30T19:10:31.032353900Z"
    }
   },
   "id": "78268858eaab8ca7"
  },
  {
   "cell_type": "code",
   "execution_count": 26,
   "outputs": [
    {
     "data": {
      "text/plain": "   Unnamed: 0  Age  Blood Pressure  Specific Gravity  Albumin  Sugar  \\\n0           0   48              70             1.005        4      0   \n1           1   53              90             1.020        2      0   \n2           2   63              70             1.010        3      0   \n3           3   68              80             1.010        3      2   \n4           4   61              80             1.015        2      0   \n\n  Red Blood Cells  Pus Cell Pus Cell clumps    Bacteria  ...  \\\n0          normal  abnormal         present  notpresent  ...   \n1        abnormal  abnormal         present  notpresent  ...   \n2        abnormal  abnormal         present  notpresent  ...   \n3          normal  abnormal         present     present  ...   \n4        abnormal  abnormal      notpresent  notpresent  ...   \n\n   Packed Cell Volume  White Blood Cell Count  Red Blood Cell Count  \\\n0                  32                    6700                   3.9   \n1                  29                   12100                   3.7   \n2                  32                    4500                   3.8   \n3                  16                   11000                   2.6   \n4                  24                    9200                   3.2   \n\n   Hypertension  Diabetes Mellitus  Coronary Artery Disease  Appetite  \\\n0           yes                 no                       no      poor   \n1           yes                yes                       no      poor   \n2           yes                yes                       no      poor   \n3           yes                yes                      yes      poor   \n4           yes                yes                      yes      poor   \n\n   Pedal Edema  Anemia Class  \n0          yes     yes     1  \n1           no     yes     1  \n2          yes      no     1  \n3          yes      no     1  \n4          yes     yes     1  \n\n[5 rows x 26 columns]",
      "text/html": "<div>\n<style scoped>\n    .dataframe tbody tr th:only-of-type {\n        vertical-align: middle;\n    }\n\n    .dataframe tbody tr th {\n        vertical-align: top;\n    }\n\n    .dataframe thead th {\n        text-align: right;\n    }\n</style>\n<table border=\"1\" class=\"dataframe\">\n  <thead>\n    <tr style=\"text-align: right;\">\n      <th></th>\n      <th>Unnamed: 0</th>\n      <th>Age</th>\n      <th>Blood Pressure</th>\n      <th>Specific Gravity</th>\n      <th>Albumin</th>\n      <th>Sugar</th>\n      <th>Red Blood Cells</th>\n      <th>Pus Cell</th>\n      <th>Pus Cell clumps</th>\n      <th>Bacteria</th>\n      <th>...</th>\n      <th>Packed Cell Volume</th>\n      <th>White Blood Cell Count</th>\n      <th>Red Blood Cell Count</th>\n      <th>Hypertension</th>\n      <th>Diabetes Mellitus</th>\n      <th>Coronary Artery Disease</th>\n      <th>Appetite</th>\n      <th>Pedal Edema</th>\n      <th>Anemia</th>\n      <th>Class</th>\n    </tr>\n  </thead>\n  <tbody>\n    <tr>\n      <th>0</th>\n      <td>0</td>\n      <td>48</td>\n      <td>70</td>\n      <td>1.005</td>\n      <td>4</td>\n      <td>0</td>\n      <td>normal</td>\n      <td>abnormal</td>\n      <td>present</td>\n      <td>notpresent</td>\n      <td>...</td>\n      <td>32</td>\n      <td>6700</td>\n      <td>3.9</td>\n      <td>yes</td>\n      <td>no</td>\n      <td>no</td>\n      <td>poor</td>\n      <td>yes</td>\n      <td>yes</td>\n      <td>1</td>\n    </tr>\n    <tr>\n      <th>1</th>\n      <td>1</td>\n      <td>53</td>\n      <td>90</td>\n      <td>1.020</td>\n      <td>2</td>\n      <td>0</td>\n      <td>abnormal</td>\n      <td>abnormal</td>\n      <td>present</td>\n      <td>notpresent</td>\n      <td>...</td>\n      <td>29</td>\n      <td>12100</td>\n      <td>3.7</td>\n      <td>yes</td>\n      <td>yes</td>\n      <td>no</td>\n      <td>poor</td>\n      <td>no</td>\n      <td>yes</td>\n      <td>1</td>\n    </tr>\n    <tr>\n      <th>2</th>\n      <td>2</td>\n      <td>63</td>\n      <td>70</td>\n      <td>1.010</td>\n      <td>3</td>\n      <td>0</td>\n      <td>abnormal</td>\n      <td>abnormal</td>\n      <td>present</td>\n      <td>notpresent</td>\n      <td>...</td>\n      <td>32</td>\n      <td>4500</td>\n      <td>3.8</td>\n      <td>yes</td>\n      <td>yes</td>\n      <td>no</td>\n      <td>poor</td>\n      <td>yes</td>\n      <td>no</td>\n      <td>1</td>\n    </tr>\n    <tr>\n      <th>3</th>\n      <td>3</td>\n      <td>68</td>\n      <td>80</td>\n      <td>1.010</td>\n      <td>3</td>\n      <td>2</td>\n      <td>normal</td>\n      <td>abnormal</td>\n      <td>present</td>\n      <td>present</td>\n      <td>...</td>\n      <td>16</td>\n      <td>11000</td>\n      <td>2.6</td>\n      <td>yes</td>\n      <td>yes</td>\n      <td>yes</td>\n      <td>poor</td>\n      <td>yes</td>\n      <td>no</td>\n      <td>1</td>\n    </tr>\n    <tr>\n      <th>4</th>\n      <td>4</td>\n      <td>61</td>\n      <td>80</td>\n      <td>1.015</td>\n      <td>2</td>\n      <td>0</td>\n      <td>abnormal</td>\n      <td>abnormal</td>\n      <td>notpresent</td>\n      <td>notpresent</td>\n      <td>...</td>\n      <td>24</td>\n      <td>9200</td>\n      <td>3.2</td>\n      <td>yes</td>\n      <td>yes</td>\n      <td>yes</td>\n      <td>poor</td>\n      <td>yes</td>\n      <td>yes</td>\n      <td>1</td>\n    </tr>\n  </tbody>\n</table>\n<p>5 rows × 26 columns</p>\n</div>"
     },
     "execution_count": 26,
     "metadata": {},
     "output_type": "execute_result"
    }
   ],
   "source": [
    "df = pd.read_csv('ckd.csv')\n",
    "df.head()"
   ],
   "metadata": {
    "collapsed": false,
    "ExecuteTime": {
     "end_time": "2023-11-30T19:10:33.632703400Z",
     "start_time": "2023-11-30T19:10:33.600652600Z"
    }
   },
   "id": "dcbdaa4681a0739f"
  },
  {
   "cell_type": "code",
   "execution_count": 43,
   "outputs": [],
   "source": [
    "X = df[['Blood Glucose Random','Hemoglobin']]\n",
    "Y = df[['Class']]\n",
    "X\n",
    "blood_std = X['Blood Glucose Random'].std()\n",
    "blood_avg = X['Blood Glucose Random'].mean()"
   ],
   "metadata": {
    "collapsed": false,
    "ExecuteTime": {
     "end_time": "2023-11-30T19:18:57.850581Z",
     "start_time": "2023-11-30T19:18:57.834554500Z"
    }
   },
   "id": "5bcb62bf62f8bc52"
  },
  {
   "cell_type": "code",
   "execution_count": 44,
   "outputs": [
    {
     "data": {
      "text/plain": "array([[-2.21549296e-01, -8.65743948e-01],\n       [-9.47597428e-01, -1.45744579e+00],\n       [ 3.84123068e+00, -1.00496791e+00],\n       [ 3.96364009e-01, -2.81487943e+00],\n       [ 6.43529331e-01, -2.08395362e+00],\n       [-5.61401613e-01, -1.35302782e+00],\n       [ 2.04928210e+00, -4.13266068e-01],\n       [-9.47597428e-01, -1.28341584e+00],\n       [ 1.87935594e+00, -1.10938588e+00],\n       [ 4.89051005e-01, -1.35302782e+00],\n       [-3.61753042e-02, -1.59666975e+00],\n       [ 2.56160262e-02, -1.17899786e+00],\n       [-8.54910433e-01, -2.29278957e+00],\n       [ 2.29644742e+00, -2.39236114e-01],\n       [ 1.21509914e+00,  8.39749600e-01],\n       [ 1.35412963e+00, -1.14419187e+00],\n       [ 2.52816491e+00, -1.56186376e+00],\n       [-2.06101463e-01, -7.96131966e-01],\n       [ 1.43136879e+00, -1.94472966e+00],\n       [-5.16231368e-02, -1.90992367e+00],\n       [-2.06101463e-01, -5.87296022e-01],\n       [-4.06923287e-01, -9.00549939e-01],\n       [ 2.42003008e+00, -2.01434164e+00],\n       [ 2.18831259e+00, -1.87511768e+00],\n       [-1.44310133e-01, -3.78460077e-01],\n       [ 2.65174757e+00, -1.14419187e+00],\n       [-4.53266785e-01, -1.73589372e+00],\n       [-3.76027622e-01, -1.87511768e+00],\n       [-2.21549296e-01, -1.28341584e+00],\n       [ 1.66308628e+00, -1.45744579e+00],\n       [-5.76849446e-01, -1.31822183e+00],\n       [-3.61753042e-02, -1.94472966e+00],\n       [ 1.86390811e+00, -8.65743948e-01],\n       [ 1.91025160e+00, -2.22317759e+00],\n       [ 1.87935594e+00, -9.70161920e-01],\n       [ 1.27689047e+00, -9.70161920e-01],\n       [ 5.54049227e+00, -7.61325975e-01],\n       [ 4.89051005e-01, -2.01434164e+00],\n       [ 1.69398195e+00, -1.42263980e+00],\n       [ 1.27689047e+00, -1.49225178e+00],\n       [-3.91475454e-01, -1.77069971e+00],\n       [ 4.52093532e+00, -3.78460077e-01],\n       [ 6.89872829e-01, -3.68502920e+00],\n       [ 1.33750855e-01,  4.56883702e-01],\n       [-9.47597428e-01,  1.15300352e+00],\n       [-7.62223437e-01,  7.70137619e-01],\n       [-1.90653630e-01,  5.96107665e-01],\n       [-4.99610283e-01, -2.39236114e-01],\n       [-1.59757965e-01, -3.04001692e-02],\n       [-5.27963899e-03,  2.82853748e-01],\n       [-6.23192943e-01,  1.08823794e-01],\n       [-5.15058115e-01,  7.40178032e-02],\n       [-4.22371120e-01,  8.39749600e-01],\n       [-5.27963899e-03,  1.43629785e-01],\n       [-1.44310133e-01,  1.15300352e+00],\n       [-2.06101463e-01,  6.30913656e-01],\n       [-2.21549296e-01,  8.74555591e-01],\n       [ 1.01681936e-02,  2.48047757e-01],\n       [-5.30505948e-01,  1.78435776e-01],\n       [ 2.56160262e-02, -1.69624132e-01],\n       [-1.44310133e-01,  7.40178032e-02],\n       [-1.59757965e-01,  4.56883702e-01],\n       [-3.14236291e-01,  2.13241766e-01],\n       [-5.45953780e-01,  3.92118124e-02],\n       [ 1.18303022e-01,  3.87271720e-01],\n       [-9.79666347e-02,  9.78973563e-01],\n       [-1.28862300e-01,  7.00525637e-01],\n       [-2.98788459e-01,  2.82853748e-01],\n       [ 1.33750855e-01,  9.09361582e-01],\n       [-2.07274716e-02,  6.30913656e-01],\n       [-1.28862300e-01,  3.17659739e-01],\n       [-4.84162450e-01,  1.11819753e+00],\n       [-5.76849446e-01,  8.04943609e-01],\n       [-7.77671270e-01,  3.52465729e-01],\n       [-5.92297278e-01,  1.01377955e+00],\n       [-1.13414467e-01,  4.22077711e-01],\n       [-6.54088609e-01,  1.04858554e+00],\n       [-9.79666347e-02,  1.08339154e+00],\n       [-6.23192943e-01, -6.52061599e-02],\n       [-6.70709694e-02,  4.91689692e-01],\n       [-5.45953780e-01,  1.11819753e+00],\n       [-5.16231368e-02, -2.04430123e-01],\n       [-1.44310133e-01,  1.18780951e+00],\n       [-5.16231368e-02,  5.26495683e-01],\n       [ 8.74073567e-02, -3.04001692e-02],\n       [-7.77671270e-01,  7.40178032e-02],\n       [-4.53266785e-01, -1.69624132e-01],\n       [ 1.01681936e-02,  4.40582162e-03],\n       [-4.22371120e-01,  1.25742149e+00],\n       [-5.27963899e-03,  6.65719646e-01],\n       [-4.53266785e-01,  4.56883702e-01],\n       [-1.75205798e-01,  1.29222748e+00],\n       [-4.06923287e-01,  7.00525637e-01],\n       [-3.45131956e-01,  7.40178032e-02],\n       [-2.07274716e-02,  7.70137619e-01],\n       [-4.84162450e-01,  1.08823794e-01],\n       [-3.45131956e-01,  7.35331628e-01],\n       [-1.75205798e-01, -1.00012151e-01],\n       [-7.93119102e-01,  1.43629785e-01],\n       [-2.07274716e-02, -6.52061599e-02],\n       [-4.99610283e-01,  1.39664545e+00],\n       [ 4.10638588e-02,  1.78435776e-01],\n       [-6.07745111e-01,  1.08823794e-01],\n       [ 1.01681936e-02,  1.43145144e+00],\n       [-6.69536441e-01, -1.34818141e-01],\n       [-4.84162450e-01,  2.13241766e-01],\n       [-2.07274716e-02, -1.00012151e-01],\n       [-5.61401613e-01,  4.56883702e-01],\n       [-3.14236291e-01,  8.74555591e-01],\n       [-3.91475454e-01,  2.48047757e-01],\n       [-5.30505948e-01, -6.52061599e-02],\n       [-3.60579789e-01,  1.43145144e+00],\n       [-4.99610283e-01, -3.04001692e-02],\n       [-7.46775604e-01,  1.32703347e+00],\n       [-3.45131956e-01,  4.56883702e-01],\n       [-7.00432107e-01, -3.04001692e-02],\n       [-4.53266785e-01,  3.17659739e-01],\n       [-5.61401613e-01,  4.56883702e-01],\n       [-6.84984274e-01,  1.18780951e+00],\n       [-3.76027622e-01, -3.04001692e-02],\n       [-2.21549296e-01, -2.39236114e-01],\n       [-6.69536441e-01,  1.22261550e+00],\n       [-4.06923287e-01,  3.52465729e-01],\n       [-9.47597428e-01,  4.40582162e-03],\n       [-6.54088609e-01,  4.56883702e-01],\n       [-2.06101463e-01,  3.87271720e-01],\n       [-7.77671270e-01,  4.56883702e-01],\n       [-9.79666347e-02,  1.29222748e+00],\n       [-7.62223437e-01,  4.22077711e-01],\n       [-3.76027622e-01, -3.04001692e-02],\n       [-7.46775604e-01,  8.74555591e-01],\n       [-8.08566935e-01,  1.36183946e+00],\n       [-3.45131956e-01,  4.56883702e-01],\n       [ 2.56160262e-02,  4.40582162e-03],\n       [-3.14236291e-01,  9.09361582e-01],\n       [-8.85806098e-01,  4.91689692e-01],\n       [-6.69536441e-01,  9.44167573e-01],\n       [-5.30505948e-01,  3.92118124e-02],\n       [-8.24014767e-01,  8.39749600e-01],\n       [-2.83340626e-01,  5.61301674e-01],\n       [-8.70358265e-01,  1.08339154e+00],\n       [-1.90653630e-01,  7.40178032e-02],\n       [ 1.01681936e-02,  5.96107665e-01],\n       [-2.83340626e-01,  9.78973563e-01],\n       [-4.84162450e-01,  9.44167573e-01],\n       [-5.92297278e-01,  1.04858554e+00],\n       [-5.76849446e-01,  6.30913656e-01],\n       [-2.98788459e-01,  1.15300352e+00],\n       [-4.99610283e-01,  4.56883702e-01],\n       [-7.15879939e-01,  6.65719646e-01],\n       [ 2.56160262e-02,  3.87271720e-01],\n       [-2.21549296e-01, -2.39236114e-01],\n       [ 8.74073567e-02,  1.43629785e-01],\n       [ 1.33750855e-01,  7.00525637e-01],\n       [-8.70358265e-01,  9.78973563e-01],\n       [-4.84162450e-01,  7.35331628e-01],\n       [-2.67892793e-01,  1.78435776e-01],\n       [-5.27963899e-03,  7.35331628e-01]])"
     },
     "execution_count": 44,
     "metadata": {},
     "output_type": "execute_result"
    }
   ],
   "source": [
    "from sklearn.preprocessing import StandardScaler\n",
    "sc = StandardScaler()\n",
    "X = sc.fit_transform(X)\n",
    "X"
   ],
   "metadata": {
    "collapsed": false,
    "ExecuteTime": {
     "end_time": "2023-11-30T19:18:58.122123600Z",
     "start_time": "2023-11-30T19:18:58.090124800Z"
    }
   },
   "id": "57f0f8eda47fd9fa"
  },
  {
   "cell_type": "code",
   "execution_count": 45,
   "outputs": [
    {
     "name": "stderr",
     "output_type": "stream",
     "text": [
      "C:\\Users\\shrey\\anaconda3\\envs\\DL\\lib\\site-packages\\sklearn\\neighbors\\_classification.py:228: DataConversionWarning: A column-vector y was passed when a 1d array was expected. Please change the shape of y to (n_samples,), for example using ravel().\n",
      "  return self._fit(X, y)\n"
     ]
    },
    {
     "data": {
      "text/plain": "KNeighborsClassifier()",
      "text/html": "<style>#sk-container-id-5 {color: black;}#sk-container-id-5 pre{padding: 0;}#sk-container-id-5 div.sk-toggleable {background-color: white;}#sk-container-id-5 label.sk-toggleable__label {cursor: pointer;display: block;width: 100%;margin-bottom: 0;padding: 0.3em;box-sizing: border-box;text-align: center;}#sk-container-id-5 label.sk-toggleable__label-arrow:before {content: \"▸\";float: left;margin-right: 0.25em;color: #696969;}#sk-container-id-5 label.sk-toggleable__label-arrow:hover:before {color: black;}#sk-container-id-5 div.sk-estimator:hover label.sk-toggleable__label-arrow:before {color: black;}#sk-container-id-5 div.sk-toggleable__content {max-height: 0;max-width: 0;overflow: hidden;text-align: left;background-color: #f0f8ff;}#sk-container-id-5 div.sk-toggleable__content pre {margin: 0.2em;color: black;border-radius: 0.25em;background-color: #f0f8ff;}#sk-container-id-5 input.sk-toggleable__control:checked~div.sk-toggleable__content {max-height: 200px;max-width: 100%;overflow: auto;}#sk-container-id-5 input.sk-toggleable__control:checked~label.sk-toggleable__label-arrow:before {content: \"▾\";}#sk-container-id-5 div.sk-estimator input.sk-toggleable__control:checked~label.sk-toggleable__label {background-color: #d4ebff;}#sk-container-id-5 div.sk-label input.sk-toggleable__control:checked~label.sk-toggleable__label {background-color: #d4ebff;}#sk-container-id-5 input.sk-hidden--visually {border: 0;clip: rect(1px 1px 1px 1px);clip: rect(1px, 1px, 1px, 1px);height: 1px;margin: -1px;overflow: hidden;padding: 0;position: absolute;width: 1px;}#sk-container-id-5 div.sk-estimator {font-family: monospace;background-color: #f0f8ff;border: 1px dotted black;border-radius: 0.25em;box-sizing: border-box;margin-bottom: 0.5em;}#sk-container-id-5 div.sk-estimator:hover {background-color: #d4ebff;}#sk-container-id-5 div.sk-parallel-item::after {content: \"\";width: 100%;border-bottom: 1px solid gray;flex-grow: 1;}#sk-container-id-5 div.sk-label:hover label.sk-toggleable__label {background-color: #d4ebff;}#sk-container-id-5 div.sk-serial::before {content: \"\";position: absolute;border-left: 1px solid gray;box-sizing: border-box;top: 0;bottom: 0;left: 50%;z-index: 0;}#sk-container-id-5 div.sk-serial {display: flex;flex-direction: column;align-items: center;background-color: white;padding-right: 0.2em;padding-left: 0.2em;position: relative;}#sk-container-id-5 div.sk-item {position: relative;z-index: 1;}#sk-container-id-5 div.sk-parallel {display: flex;align-items: stretch;justify-content: center;background-color: white;position: relative;}#sk-container-id-5 div.sk-item::before, #sk-container-id-5 div.sk-parallel-item::before {content: \"\";position: absolute;border-left: 1px solid gray;box-sizing: border-box;top: 0;bottom: 0;left: 50%;z-index: -1;}#sk-container-id-5 div.sk-parallel-item {display: flex;flex-direction: column;z-index: 1;position: relative;background-color: white;}#sk-container-id-5 div.sk-parallel-item:first-child::after {align-self: flex-end;width: 50%;}#sk-container-id-5 div.sk-parallel-item:last-child::after {align-self: flex-start;width: 50%;}#sk-container-id-5 div.sk-parallel-item:only-child::after {width: 0;}#sk-container-id-5 div.sk-dashed-wrapped {border: 1px dashed gray;margin: 0 0.4em 0.5em 0.4em;box-sizing: border-box;padding-bottom: 0.4em;background-color: white;}#sk-container-id-5 div.sk-label label {font-family: monospace;font-weight: bold;display: inline-block;line-height: 1.2em;}#sk-container-id-5 div.sk-label-container {text-align: center;}#sk-container-id-5 div.sk-container {/* jupyter's `normalize.less` sets `[hidden] { display: none; }` but bootstrap.min.css set `[hidden] { display: none !important; }` so we also need the `!important` here to be able to override the default hidden behavior on the sphinx rendered scikit-learn.org. See: https://github.com/scikit-learn/scikit-learn/issues/21755 */display: inline-block !important;position: relative;}#sk-container-id-5 div.sk-text-repr-fallback {display: none;}</style><div id=\"sk-container-id-5\" class=\"sk-top-container\"><div class=\"sk-text-repr-fallback\"><pre>KNeighborsClassifier()</pre><b>In a Jupyter environment, please rerun this cell to show the HTML representation or trust the notebook. <br />On GitHub, the HTML representation is unable to render, please try loading this page with nbviewer.org.</b></div><div class=\"sk-container\" hidden><div class=\"sk-item\"><div class=\"sk-estimator sk-toggleable\"><input class=\"sk-toggleable__control sk-hidden--visually\" id=\"sk-estimator-id-5\" type=\"checkbox\" checked><label for=\"sk-estimator-id-5\" class=\"sk-toggleable__label sk-toggleable__label-arrow\">KNeighborsClassifier</label><div class=\"sk-toggleable__content\"><pre>KNeighborsClassifier()</pre></div></div></div></div></div>"
     },
     "execution_count": 45,
     "metadata": {},
     "output_type": "execute_result"
    }
   ],
   "source": [
    "from sklearn.neighbors import KNeighborsClassifier\n",
    "knn = KNeighborsClassifier(n_neighbors=5)\n",
    "knn.fit(X, Y)"
   ],
   "metadata": {
    "collapsed": false,
    "ExecuteTime": {
     "end_time": "2023-11-30T19:18:58.366199100Z",
     "start_time": "2023-11-30T19:18:58.314198200Z"
    }
   },
   "id": "e8c9f359ca6fdd6f"
  },
  {
   "cell_type": "code",
   "execution_count": 46,
   "outputs": [
    {
     "name": "stderr",
     "output_type": "stream",
     "text": [
      "C:\\Users\\shrey\\anaconda3\\envs\\DL\\lib\\site-packages\\sklearn\\base.py:464: UserWarning: X does not have valid feature names, but StandardScaler was fitted with feature names\n",
      "  warnings.warn(\n"
     ]
    }
   ],
   "source": [
    "x_to_predict = sc.transform([[(1.1)*blood_std+blood_avg,0]])"
   ],
   "metadata": {
    "collapsed": false,
    "ExecuteTime": {
     "end_time": "2023-11-30T19:18:58.496276400Z",
     "start_time": "2023-11-30T19:18:58.475753900Z"
    }
   },
   "id": "8310fafb6cd1dde5"
  },
  {
   "cell_type": "code",
   "execution_count": 47,
   "outputs": [
    {
     "data": {
      "text/plain": "array([1], dtype=int64)"
     },
     "execution_count": 47,
     "metadata": {},
     "output_type": "execute_result"
    }
   ],
   "source": [
    "y = knn.predict(x_to_predict)\n",
    "y"
   ],
   "metadata": {
    "collapsed": false,
    "ExecuteTime": {
     "end_time": "2023-11-30T19:18:58.624799200Z",
     "start_time": "2023-11-30T19:18:58.591805400Z"
    }
   },
   "id": "1899a1d969264453"
  },
  {
   "cell_type": "markdown",
   "source": [
    "## Question 2"
   ],
   "metadata": {
    "collapsed": false
   },
   "id": "441a29d9de8b70db"
  },
  {
   "cell_type": "code",
   "execution_count": 48,
   "outputs": [],
   "source": [
    "import numpy as np\n",
    "import pandas as pd"
   ],
   "metadata": {
    "collapsed": false,
    "ExecuteTime": {
     "end_time": "2023-11-30T19:25:22.913293700Z",
     "start_time": "2023-11-30T19:25:22.872694100Z"
    }
   },
   "id": "3705930f0c9fce54"
  },
  {
   "cell_type": "code",
   "execution_count": 50,
   "outputs": [
    {
     "data": {
      "text/plain": "         id diagnosis  radius_mean  texture_mean  perimeter_mean  area_mean  \\\n0    842302         M        17.99         10.38          122.80     1001.0   \n1    842517         M        20.57         17.77          132.90     1326.0   \n2  84300903         M        19.69         21.25          130.00     1203.0   \n3  84348301         M        11.42         20.38           77.58      386.1   \n4  84358402         M        20.29         14.34          135.10     1297.0   \n\n   smoothness_mean  compactness_mean  concavity_mean  concave points_mean  \\\n0          0.11840           0.27760          0.3001              0.14710   \n1          0.08474           0.07864          0.0869              0.07017   \n2          0.10960           0.15990          0.1974              0.12790   \n3          0.14250           0.28390          0.2414              0.10520   \n4          0.10030           0.13280          0.1980              0.10430   \n\n   ...  texture_worst  perimeter_worst  area_worst  smoothness_worst  \\\n0  ...          17.33           184.60      2019.0            0.1622   \n1  ...          23.41           158.80      1956.0            0.1238   \n2  ...          25.53           152.50      1709.0            0.1444   \n3  ...          26.50            98.87       567.7            0.2098   \n4  ...          16.67           152.20      1575.0            0.1374   \n\n   compactness_worst  concavity_worst  concave points_worst  symmetry_worst  \\\n0             0.6656           0.7119                0.2654          0.4601   \n1             0.1866           0.2416                0.1860          0.2750   \n2             0.4245           0.4504                0.2430          0.3613   \n3             0.8663           0.6869                0.2575          0.6638   \n4             0.2050           0.4000                0.1625          0.2364   \n\n   fractal_dimension_worst  Unnamed: 32  \n0                  0.11890          NaN  \n1                  0.08902          NaN  \n2                  0.08758          NaN  \n3                  0.17300          NaN  \n4                  0.07678          NaN  \n\n[5 rows x 33 columns]",
      "text/html": "<div>\n<style scoped>\n    .dataframe tbody tr th:only-of-type {\n        vertical-align: middle;\n    }\n\n    .dataframe tbody tr th {\n        vertical-align: top;\n    }\n\n    .dataframe thead th {\n        text-align: right;\n    }\n</style>\n<table border=\"1\" class=\"dataframe\">\n  <thead>\n    <tr style=\"text-align: right;\">\n      <th></th>\n      <th>id</th>\n      <th>diagnosis</th>\n      <th>radius_mean</th>\n      <th>texture_mean</th>\n      <th>perimeter_mean</th>\n      <th>area_mean</th>\n      <th>smoothness_mean</th>\n      <th>compactness_mean</th>\n      <th>concavity_mean</th>\n      <th>concave points_mean</th>\n      <th>...</th>\n      <th>texture_worst</th>\n      <th>perimeter_worst</th>\n      <th>area_worst</th>\n      <th>smoothness_worst</th>\n      <th>compactness_worst</th>\n      <th>concavity_worst</th>\n      <th>concave points_worst</th>\n      <th>symmetry_worst</th>\n      <th>fractal_dimension_worst</th>\n      <th>Unnamed: 32</th>\n    </tr>\n  </thead>\n  <tbody>\n    <tr>\n      <th>0</th>\n      <td>842302</td>\n      <td>M</td>\n      <td>17.99</td>\n      <td>10.38</td>\n      <td>122.80</td>\n      <td>1001.0</td>\n      <td>0.11840</td>\n      <td>0.27760</td>\n      <td>0.3001</td>\n      <td>0.14710</td>\n      <td>...</td>\n      <td>17.33</td>\n      <td>184.60</td>\n      <td>2019.0</td>\n      <td>0.1622</td>\n      <td>0.6656</td>\n      <td>0.7119</td>\n      <td>0.2654</td>\n      <td>0.4601</td>\n      <td>0.11890</td>\n      <td>NaN</td>\n    </tr>\n    <tr>\n      <th>1</th>\n      <td>842517</td>\n      <td>M</td>\n      <td>20.57</td>\n      <td>17.77</td>\n      <td>132.90</td>\n      <td>1326.0</td>\n      <td>0.08474</td>\n      <td>0.07864</td>\n      <td>0.0869</td>\n      <td>0.07017</td>\n      <td>...</td>\n      <td>23.41</td>\n      <td>158.80</td>\n      <td>1956.0</td>\n      <td>0.1238</td>\n      <td>0.1866</td>\n      <td>0.2416</td>\n      <td>0.1860</td>\n      <td>0.2750</td>\n      <td>0.08902</td>\n      <td>NaN</td>\n    </tr>\n    <tr>\n      <th>2</th>\n      <td>84300903</td>\n      <td>M</td>\n      <td>19.69</td>\n      <td>21.25</td>\n      <td>130.00</td>\n      <td>1203.0</td>\n      <td>0.10960</td>\n      <td>0.15990</td>\n      <td>0.1974</td>\n      <td>0.12790</td>\n      <td>...</td>\n      <td>25.53</td>\n      <td>152.50</td>\n      <td>1709.0</td>\n      <td>0.1444</td>\n      <td>0.4245</td>\n      <td>0.4504</td>\n      <td>0.2430</td>\n      <td>0.3613</td>\n      <td>0.08758</td>\n      <td>NaN</td>\n    </tr>\n    <tr>\n      <th>3</th>\n      <td>84348301</td>\n      <td>M</td>\n      <td>11.42</td>\n      <td>20.38</td>\n      <td>77.58</td>\n      <td>386.1</td>\n      <td>0.14250</td>\n      <td>0.28390</td>\n      <td>0.2414</td>\n      <td>0.10520</td>\n      <td>...</td>\n      <td>26.50</td>\n      <td>98.87</td>\n      <td>567.7</td>\n      <td>0.2098</td>\n      <td>0.8663</td>\n      <td>0.6869</td>\n      <td>0.2575</td>\n      <td>0.6638</td>\n      <td>0.17300</td>\n      <td>NaN</td>\n    </tr>\n    <tr>\n      <th>4</th>\n      <td>84358402</td>\n      <td>M</td>\n      <td>20.29</td>\n      <td>14.34</td>\n      <td>135.10</td>\n      <td>1297.0</td>\n      <td>0.10030</td>\n      <td>0.13280</td>\n      <td>0.1980</td>\n      <td>0.10430</td>\n      <td>...</td>\n      <td>16.67</td>\n      <td>152.20</td>\n      <td>1575.0</td>\n      <td>0.1374</td>\n      <td>0.2050</td>\n      <td>0.4000</td>\n      <td>0.1625</td>\n      <td>0.2364</td>\n      <td>0.07678</td>\n      <td>NaN</td>\n    </tr>\n  </tbody>\n</table>\n<p>5 rows × 33 columns</p>\n</div>"
     },
     "execution_count": 50,
     "metadata": {},
     "output_type": "execute_result"
    }
   ],
   "source": [
    "df = pd.read_csv('breast-cancer.csv')\n",
    "df.head()"
   ],
   "metadata": {
    "collapsed": false,
    "ExecuteTime": {
     "end_time": "2023-11-30T19:25:48.900998200Z",
     "start_time": "2023-11-30T19:25:48.846996800Z"
    }
   },
   "id": "bcbeb6a61d7bdf36"
  },
  {
   "cell_type": "code",
   "execution_count": 51,
   "outputs": [
    {
     "data": {
      "text/plain": "id                           0\ndiagnosis                    0\nradius_mean                  0\ntexture_mean                 0\nperimeter_mean               0\narea_mean                    0\nsmoothness_mean              0\ncompactness_mean             0\nconcavity_mean               0\nconcave points_mean          0\nsymmetry_mean                0\nfractal_dimension_mean       0\nradius_se                    0\ntexture_se                   0\nperimeter_se                 0\narea_se                      0\nsmoothness_se                0\ncompactness_se               0\nconcavity_se                 0\nconcave points_se            0\nsymmetry_se                  0\nfractal_dimension_se         0\nradius_worst                 0\ntexture_worst                0\nperimeter_worst              0\narea_worst                   0\nsmoothness_worst             0\ncompactness_worst            0\nconcavity_worst              0\nconcave points_worst         0\nsymmetry_worst               0\nfractal_dimension_worst      0\nUnnamed: 32                569\ndtype: int64"
     },
     "execution_count": 51,
     "metadata": {},
     "output_type": "execute_result"
    }
   ],
   "source": [
    "df.isnull().sum()"
   ],
   "metadata": {
    "collapsed": false,
    "ExecuteTime": {
     "end_time": "2023-11-30T19:25:57.782436800Z",
     "start_time": "2023-11-30T19:25:57.749442900Z"
    }
   },
   "id": "2dde1949623c1ae9"
  }
 ],
 "metadata": {
  "kernelspec": {
   "display_name": "Python 3",
   "language": "python",
   "name": "python3"
  },
  "language_info": {
   "codemirror_mode": {
    "name": "ipython",
    "version": 2
   },
   "file_extension": ".py",
   "mimetype": "text/x-python",
   "name": "python",
   "nbconvert_exporter": "python",
   "pygments_lexer": "ipython2",
   "version": "2.7.6"
  }
 },
 "nbformat": 4,
 "nbformat_minor": 5
}
