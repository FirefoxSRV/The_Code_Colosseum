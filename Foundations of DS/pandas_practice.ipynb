{
  "nbformat": 4,
  "nbformat_minor": 0,
  "metadata": {
    "colab": {
      "provenance": []
    },
    "kernelspec": {
      "name": "python3",
      "display_name": "Python 3"
    },
    "language_info": {
      "name": "python"
    }
  },
  "cells": [
    {
      "cell_type": "code",
      "execution_count": null,
      "metadata": {
        "id": "y1TzBa6TEkPg"
      },
      "outputs": [],
      "source": [
        "import pandas as pd"
      ]
    },
    {
      "cell_type": "code",
      "source": [
        "data = pd.read_csv('unemployment_analysis.csv')"
      ],
      "metadata": {
        "id": "VIhAD4oxGGy4"
      },
      "execution_count": null,
      "outputs": []
    },
    {
      "cell_type": "code",
      "source": [
        "data.shape"
      ],
      "metadata": {
        "colab": {
          "base_uri": "https://localhost:8080/"
        },
        "id": "ppHWXZf6GNDR",
        "outputId": "b5b19a15-6832-4961-d640-85018bc4f3be"
      },
      "execution_count": null,
      "outputs": [
        {
          "output_type": "execute_result",
          "data": {
            "text/plain": [
              "(235, 33)"
            ]
          },
          "metadata": {},
          "execution_count": 7
        }
      ]
    },
    {
      "cell_type": "code",
      "source": [
        "data.duplicated()"
      ],
      "metadata": {
        "colab": {
          "base_uri": "https://localhost:8080/"
        },
        "id": "CmDxqe8sGend",
        "outputId": "4d69f789-0260-4ffd-87e6-4761d298f36e"
      },
      "execution_count": null,
      "outputs": [
        {
          "output_type": "execute_result",
          "data": {
            "text/plain": [
              "0      False\n",
              "1      False\n",
              "2      False\n",
              "3      False\n",
              "4      False\n",
              "       ...  \n",
              "230    False\n",
              "231    False\n",
              "232    False\n",
              "233    False\n",
              "234    False\n",
              "Length: 235, dtype: bool"
            ]
          },
          "metadata": {},
          "execution_count": 11
        }
      ]
    },
    {
      "cell_type": "code",
      "source": [
        "data.drop_duplicates()\n",
        "print(data.shape)\n",
        "# no duplicates, so shape remains the same"
      ],
      "metadata": {
        "colab": {
          "base_uri": "https://localhost:8080/"
        },
        "id": "6xJkX-chGkrH",
        "outputId": "614bc8fa-d5a0-4cc0-bf30-36be5c48d4f1"
      },
      "execution_count": null,
      "outputs": [
        {
          "output_type": "stream",
          "name": "stdout",
          "text": [
            "(235, 33)\n"
          ]
        }
      ]
    },
    {
      "cell_type": "markdown",
      "source": [
        "# DATA VISUALIZATION"
      ],
      "metadata": {
        "id": "xfKy4p_uHIk8"
      }
    },
    {
      "cell_type": "markdown",
      "source": [
        "\n",
        "\n",
        "*   Line Plots\n",
        "*   Scatter Plots\n",
        "*   Histograms\n",
        "*   Quantile Plots   - For simple univariate functions\n",
        "*   Quantile - Qualtile Plots\n",
        "\n"
      ],
      "metadata": {
        "id": "z9NwN6g5HY2S"
      }
    },
    {
      "cell_type": "code",
      "source": [
        "import matplotlib.pyplot as plt"
      ],
      "metadata": {
        "id": "VAFj7ImxHMJ8"
      },
      "execution_count": null,
      "outputs": []
    },
    {
      "cell_type": "markdown",
      "source": [
        "## Line plots"
      ],
      "metadata": {
        "id": "mTPcKbUSIl1J"
      }
    },
    {
      "cell_type": "markdown",
      "source": [
        "Most common among the visualizations, often used to study chronological trends.\n",
        "\n",
        "Data can be numerical or categorical....."
      ],
      "metadata": {
        "id": "UdvvYEPOInN_"
      }
    },
    {
      "cell_type": "markdown",
      "source": [
        "## BAR CHART"
      ],
      "metadata": {
        "id": "DQCe-wwkI39p"
      }
    },
    {
      "cell_type": "markdown",
      "source": [
        "Familiar distributions of visualizing categorical distributions, each distribution for a category.\n",
        "\n",
        "Equally spaced and wide. Length of each bar is proportional to the frequency of the corresponding category.\n",
        "\n",
        "We can draw bar charts horizontally as sometimes it is easier to label them"
      ],
      "metadata": {
        "id": "f6dsbnYBI50A"
      }
    },
    {
      "cell_type": "markdown",
      "source": [
        "# DISTINCTION BETWEEN BAR CHARTS AND SCATTER PLOTS ( ALSO LINE PLOT )"
      ],
      "metadata": {
        "id": "VEFVaQ1wpSki"
      }
    },
    {
      "cell_type": "markdown",
      "source": [
        "Scatter / Line -> display numerical values in both axis\n",
        "\n",
        "Bar -> Numeric on 1 axis and category in the other\n",
        "       Bars can be drawn in any order, so we can interpret the graph by reordering the categories\n",
        "      "
      ],
      "metadata": {
        "id": "0KE5mYW9pckf"
      }
    },
    {
      "cell_type": "markdown",
      "source": [
        "# HISTOGRAM ANALYSIS"
      ],
      "metadata": {
        "id": "bCi7-SZQp-RH"
      }
    },
    {
      "cell_type": "markdown",
      "source": [
        "Basic statistical class descriptions\n",
        "\n",
        "\n",
        "*   Frequency histogram : Univariate graphical method , consists set of rectangles that reflects the counts or frequencies of classes\n",
        "*   Relative Frequency histogram : uses same information as freq hist, but compares each class interval to total number of items.\n",
        "\n"
      ],
      "metadata": {
        "id": "7URecG-GqA4d"
      }
    },
    {
      "cell_type": "markdown",
      "source": [
        "#  DIFFERENCE BETWEEN BAR AND HISTOGRAM"
      ],
      "metadata": {
        "id": "Bfs3IAHjq3IP"
      }
    },
    {
      "cell_type": "markdown",
      "source": [
        "Bar : Displays one quantity per category.\n",
        "\n",
        "Histogram : displays distributions of quantative analysis\n",
        "\n",
        "-------------\n",
        "\n",
        "Bars: All bars have same width\n",
        "\n",
        "Histogram: Can have different widths\n",
        "\n",
        "-----------------------\n",
        "\n",
        "Bars : Height is proportional to the value of each category\n",
        "\n",
        "Histogram : Heights measure densities. The area is proportional to the number of entries"
      ],
      "metadata": {
        "id": "DTzKJt5lr-dX"
      }
    },
    {
      "cell_type": "markdown",
      "source": [
        "# STEM AND LEAF PLOTS"
      ],
      "metadata": {
        "id": "J3oXzBrwsqSD"
      }
    },
    {
      "cell_type": "markdown",
      "source": [
        "Stem and leaf plots display data in a structured list.\n",
        "\n",
        "When u use stem and leaf plots, it doesn't show you how the values are spread out. It is just useful for providing clear view of specific values. Unlike histogram, it doesnt have a tabulated view and you can loose on the data of distribution when using stem and leaf plots.\n",
        "\n",
        "----------\n",
        "\n",
        "So, use stem and leaf plots when you want to see specific values of a data"
      ],
      "metadata": {
        "id": "3B3knkpqssvr"
      }
    },
    {
      "cell_type": "markdown",
      "source": [
        "Eg: Stem chart while grading. You can see each studennt's score ....but using histograms, you can immediately grasp several info like the avg score of the class and so on."
      ],
      "metadata": {
        "id": "l3ncpn80uF6V"
      }
    },
    {
      "cell_type": "markdown",
      "source": [
        "# BOX PLOTS , OUTLIERS  - Measuring dispersion of data"
      ],
      "metadata": {
        "id": "NdwMHmLyuTx2"
      }
    },
    {
      "cell_type": "markdown",
      "source": [
        "- Used for visualizing a distribution\n",
        "- The ends of the box are at the quartiles, so box length is IQR (Inter Quartile Range )\n",
        "- The Shape of the box plot shows how the data is distributed and outlines the outliers\n",
        "- Median is marked within the box\n",
        "- The two whiskers (the end of the dotted lines) outside the box are the min and max\n",
        "- Q3 - Q1 => IQR"
      ],
      "metadata": {
        "id": "qPGbNE0XufCH"
      }
    },
    {
      "cell_type": "markdown",
      "source": [
        "# PROPERTIES OF NORMAL DISTRIBUTION CURVE"
      ],
      "metadata": {
        "id": "iyXzM5osWHGD"
      }
    },
    {
      "cell_type": "markdown",
      "source": [
        "- From (mew)-sigma to (mew)+sigma   =>  68% measurements\n",
        "- From (mew)-2*sigma to (mew)+2*sigma   =>  95% measurements\n",
        "- From (mew)-3*sigma to (mew)+3*sigma   =>  99.7% measurements"
      ],
      "metadata": {
        "id": "V_3_1yZjWKsS"
      }
    },
    {
      "cell_type": "markdown",
      "source": [
        "# Quantile Plot and Q-Q"
      ],
      "metadata": {
        "id": "F7APfm4wXlTR"
      }
    },
    {
      "cell_type": "markdown",
      "source": [
        "- Univariate\n",
        "- Displays all of the data ( allowing user to access both overall behaviour and unusual occurences )\n",
        "- Over all behavior, as well as unusual behavior"
      ],
      "metadata": {
        "id": "EQDbwgS-XnzW"
      }
    },
    {
      "cell_type": "markdown",
      "source": [
        "# Positively and negatively Correlated data  - DIY"
      ],
      "metadata": {
        "id": "usnTn_yOdawS"
      }
    },
    {
      "cell_type": "markdown",
      "source": [
        "# EXPLORING BIVARIATE DATA"
      ],
      "metadata": {
        "id": "Sj0FmvdLvawq"
      }
    },
    {
      "cell_type": "markdown",
      "source": [
        "## Scatter Plots"
      ],
      "metadata": {
        "id": "SfVkU7Mcvkl-"
      }
    },
    {
      "cell_type": "markdown",
      "source": [
        "- Effective method for determining relationship and pattern between"
      ],
      "metadata": {
        "id": "vRK5RsydvpRP"
      }
    }
  ]
}