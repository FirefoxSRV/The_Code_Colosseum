{
 "cells": [
  {
   "cell_type": "code",
   "execution_count": 1,
   "id": "d6c79b7c",
   "metadata": {},
   "outputs": [
    {
     "name": "stdout",
     "output_type": "stream",
     "text": [
      "45\n"
     ]
    }
   ],
   "source": [
    "#code for quick select to find the kth smallest element\n",
    "def quickselect(arr,low,high,k):\n",
    "    index = partition(arr,low,high)\n",
    "    if(index == k-1):\n",
    "        return arr[index]\n",
    "    if(index > k-1):\n",
    "        low = low\n",
    "        high = index-1\n",
    "        return quickselect(arr,low,index-1,k)\n",
    "    else:\n",
    "        low = index+1\n",
    "        high = high\n",
    "        return quickselect(arr,index+1,high,k)\n",
    "def partition(arr,low,high):\n",
    "    pivot = arr[high]\n",
    "    i=low-1\n",
    "    for j in range(low,high):\n",
    "        if arr[j]<=pivot:\n",
    "            i+=1\n",
    "            arr[i],arr[j]=arr[j],arr[i]\n",
    "    arr[i+1],arr[high]=arr[high],arr[i+1]\n",
    "    return i+1\n",
    "arr=[389,45,2,0,32,453,23]\n",
    "m = quickselect(arr,0,len(arr)-1,5)\n",
    "print(m)\n"
   ]
  },
  {
   "cell_type": "code",
   "execution_count": 2,
   "id": "f5b89447",
   "metadata": {},
   "outputs": [
    {
     "name": "stdout",
     "output_type": "stream",
     "text": [
      "0\n",
      "2\n",
      "23\n"
     ]
    }
   ],
   "source": [
    "#code for quick select to find the k-smallest elements\n",
    "def quickselect(arr,low,high,k):\n",
    "    index = partition(arr,low,high)\n",
    "    if(index == k-1):\n",
    "        return arr[index]\n",
    "    if(index > k-1):\n",
    "        low = low\n",
    "        high = index-1\n",
    "        return quickselect(arr,low,index-1,k)\n",
    "    else:\n",
    "        low = index+1\n",
    "        high = high\n",
    "        return quickselect(arr,index+1,high,k)\n",
    "def partition(arr,low,high):\n",
    "    pivot = arr[high]\n",
    "    i=low-1\n",
    "    for j in range(low,high):\n",
    "        if arr[j]<=pivot:\n",
    "            i+=1\n",
    "            arr[i],arr[j]=arr[j],arr[i]\n",
    "    arr[i+1],arr[high]=arr[high],arr[i+1]\n",
    "    return i+1\n",
    "arr=[389,45,2,0,32,453,23]\n",
    "n = 3\n",
    "for i in range(n):\n",
    "    m = quickselect(arr,0,len(arr)-1,i+1)\n",
    "    print(m)\n"
   ]
  },
  {
   "cell_type": "code",
   "execution_count": 4,
   "id": "18efac87",
   "metadata": {},
   "outputs": [
    {
     "name": "stdout",
     "output_type": "stream",
     "text": [
      "[0, 2, 23, 32, 45, 389, 453]\n"
     ]
    }
   ],
   "source": [
    "#code for quick sort to sort the array\n",
    "def quicksort(arr,low,high):\n",
    "    if low<high:\n",
    "        index = partition(arr,low,high)\n",
    "        quicksort(arr,low,index-1)\n",
    "        quicksort(arr,index+1,high)\n",
    "def partition(arr,low,high):\n",
    "    pivot = arr[high]\n",
    "    i=low-1\n",
    "    for j in range(low,high):\n",
    "        if arr[j]<=pivot:\n",
    "            i+=1\n",
    "            arr[i],arr[j]=arr[j],arr[i]\n",
    "    arr[i+1],arr[high]=arr[high],arr[i+1]\n",
    "    return i+1\n",
    "arr=[389,45,2,0,32,453,23]\n",
    "m = quicksort(arr,0,len(arr)-1)\n",
    "print(arr)\n"
   ]
  },
  {
   "cell_type": "code",
   "execution_count": 5,
   "id": "9330d5a9",
   "metadata": {},
   "outputs": [
    {
     "name": "stdout",
     "output_type": "stream",
     "text": [
      "[0, 2, 23, 32, 45, 389, 453]\n",
      "[0, 2, 23]\n"
     ]
    }
   ],
   "source": [
    "#code for quick sort to find the kth smallest elements\n",
    "#code for quick sort to sort the array\n",
    "def quicksort(arr,low,high):\n",
    "    if low<high:\n",
    "        index = partition(arr,low,high)\n",
    "        quicksort(arr,low,index-1)\n",
    "        quicksort(arr,index+1,high)\n",
    "def partition(arr,low,high):\n",
    "    pivot = arr[high]\n",
    "    i=low-1\n",
    "    for j in range(low,high):\n",
    "        if arr[j]<=pivot:\n",
    "            i+=1\n",
    "            arr[i],arr[j]=arr[j],arr[i]\n",
    "    arr[i+1],arr[high]=arr[high],arr[i+1]\n",
    "    return i+1\n",
    "arr=[389,45,2,0,32,453,23]\n",
    "m = quicksort(arr,0,len(arr)-1)\n",
    "print(arr)\n",
    "k=3\n",
    "print(arr[:k])\n"
   ]
  },
  {
   "cell_type": "code",
   "execution_count": 6,
   "id": "6004b671",
   "metadata": {},
   "outputs": [
    {
     "name": "stdout",
     "output_type": "stream",
     "text": [
      "Array after partitioning: [1, 2, 3, 4, 5, 6]\n",
      "Index of the pivot: 0\n"
     ]
    }
   ],
   "source": [
    "#code for partitions choosing the first element as pivot\n",
    "def partition_first_ele(arr, low, high):\n",
    "    pivot = arr[low]\n",
    "    left = low + 1\n",
    "    right = high\n",
    "    while True:\n",
    "        while left <= right and arr[left] < pivot:\n",
    "            left += 1\n",
    "        while arr[right] >= pivot and right >= left:\n",
    "            right -= 1\n",
    "        if right < left:\n",
    "            break\n",
    "        else:\n",
    "            arr[left], arr[right] = arr[right], arr[left]\n",
    "    arr[low], arr[right] = arr[right], arr[low] \n",
    "    return right\n",
    "arr = [1,2,3,4,5,6]\n",
    "pivot_index = partition_first_ele(arr, 0, len(arr) - 1)\n",
    "print(\"Array after partitioning:\", arr)\n",
    "print(\"Index of the pivot:\", pivot_index)\n"
   ]
  },
  {
   "cell_type": "code",
   "execution_count": 9,
   "id": "90740476",
   "metadata": {},
   "outputs": [
    {
     "name": "stdout",
     "output_type": "stream",
     "text": [
      "Array after partitioning: [1, 2, 3, 4, 5, 6]\n",
      "Index of the pivot (random pivot swapped with a first element): 3\n"
     ]
    }
   ],
   "source": [
    "#choosing random elements as pivots\n",
    "import random\n",
    "def partition_random(arr, low, high):\n",
    "    pivot_index = random.randint(low, high)\n",
    "    arr[low], arr[pivot_index] = arr[pivot_index], arr[low]\n",
    "    pivot = arr[low]\n",
    "    left = low + 1\n",
    "    right = high\n",
    "    while True:\n",
    "        while left <= right and arr[left] < pivot:\n",
    "            left += 1\n",
    "        while arr[right] >= pivot and right >= left:\n",
    "            right -= 1\n",
    "        if right < left:\n",
    "            break\n",
    "        else:\n",
    "            arr[left], arr[right] = arr[right], arr[left]\n",
    "    arr[low], arr[right] = arr[right], arr[low]\n",
    "    return right\n",
    "arr = [1,2,3,4,5,6]\n",
    "pivot_index = partition_random(arr, 0, len(arr) - 1)\n",
    "print(\"Array after partitioning:\", arr)\n",
    "print(\"Index of the pivot (random pivot swapped with a first element):\", pivot_index)\n"
   ]
  },
  {
   "cell_type": "code",
   "execution_count": 10,
   "id": "29e57fae",
   "metadata": {},
   "outputs": [
    {
     "name": "stdout",
     "output_type": "stream",
     "text": [
      "Array after partitioning: [1, 2, 3, 4, 5, 6]\n",
      "Index of the pivot (median of three, swapped with last element): 2\n"
     ]
    }
   ],
   "source": [
    "#choosing median of three as pivots and swap with the last elements\n",
    "def partition_median_of_three_swap_last(arr, low, high):\n",
    "    mid = (low + high) // 2\n",
    "    l= [[arr[low], low], [arr[mid], mid], [arr[high], high]]\n",
    "    l.sort() \n",
    "    median_value, median_index = l[1]\n",
    "    arr[high], arr[median_index] = arr[median_index], arr[high]\n",
    "    pivot = arr[high]\n",
    "    i=low-1\n",
    "    for j in range(low,high):\n",
    "        if arr[j]<=pivot:\n",
    "            i+=1\n",
    "            arr[i],arr[j]=arr[j],arr[i]\n",
    "    arr[i+1],arr[high]=arr[high],arr[i+1]\n",
    "    return i+1\n",
    "arr = [1,2,3,4,5,6]\n",
    "pivot_index = partition_median_of_three_swap_last(arr, 0, len(arr) - 1)\n",
    "print(\"Array after partitioning:\", arr)\n",
    "print(\"Index of the pivot (median of three, swapped with last element):\", pivot_index)\n"
   ]
  },
  {
   "cell_type": "code",
   "execution_count": 12,
   "id": "fd1229b0",
   "metadata": {},
   "outputs": [
    {
     "name": "stdout",
     "output_type": "stream",
     "text": [
      "[0, 2, 23]   [32, 45, 389, 453]\n"
     ]
    }
   ],
   "source": [
    "def quicksort(arr,low,high):\n",
    "    if low<high:\n",
    "        index = partition(arr,low,high)\n",
    "        quicksort(arr,low,index-1)\n",
    "        quicksort(arr,index+1,high)\n",
    "def partition(arr,low,high):\n",
    "    pivot = arr[high]\n",
    "    i=low-1\n",
    "    for j in range(low,high):\n",
    "        if arr[j]<=pivot:\n",
    "            i+=1\n",
    "            arr[i],arr[j]=arr[j],arr[i]\n",
    "    arr[i+1],arr[high]=arr[high],arr[i+1]\n",
    "    return i+1\n",
    "arr=[389,45,2,0,32,453,23]\n",
    "m = quicksort(arr,0,len(arr)-1)\n",
    "k=3\n",
    "U = arr[0:n]\n",
    "V = arr[n:len(arr)]\n",
    "print(U,\" \",V)\n"
   ]
  },
  {
   "cell_type": "code",
   "execution_count": 16,
   "id": "4a3ad89e",
   "metadata": {},
   "outputs": [
    {
     "name": "stdout",
     "output_type": "stream",
     "text": [
      "[0, 2, 12, 23, 32]   [389, 45, 453, 345, 68, 256, 8181, 282, 172, 182]\n"
     ]
    }
   ],
   "source": [
    "#quick select to split array into 2 parts\n",
    "def quickselect(arr,low,high,k):\n",
    "    index = partition(arr,low,high)\n",
    "    if(index == k-1):\n",
    "        return arr[index]\n",
    "    if(index > k-1):\n",
    "        low = low\n",
    "        high = index-1\n",
    "        return quickselect(arr,low,index-1,k)\n",
    "    else:\n",
    "        low = index+1\n",
    "        high = high\n",
    "        return quickselect(arr,index+1,high,k)\n",
    "def partition(arr,low,high):\n",
    "    pivot = arr[high]\n",
    "    i=low-1\n",
    "    for j in range(low,high):\n",
    "        if arr[j]<=pivot:\n",
    "            i+=1\n",
    "            arr[i],arr[j]=arr[j],arr[i]\n",
    "    arr[i+1],arr[high]=arr[high],arr[i+1]\n",
    "    return i+1\n",
    "arr=[389,45,2,0,32,453,23,345,12,68,256,8181,282,172,182]\n",
    "temp=[]\n",
    "for i in arr:\n",
    "    temp.append(i)\n",
    "k = 5\n",
    "U=[]\n",
    "V=[]\n",
    "s=[]\n",
    "for i in range(k):\n",
    "    m = quickselect(arr,0,len(arr)-1,i+1)\n",
    "    U.append(m)\n",
    "for i in temp:\n",
    "    if i not in U:\n",
    "        V.append(i)\n",
    "for i in arr:\n",
    "    if i not in U:\n",
    "        s.append(i)\n",
    "print(U,\" \",V)\n",
    "#print(U,\" \",s)\n"
   ]
  },
  {
   "cell_type": "code",
   "execution_count": 17,
   "id": "6ae014eb",
   "metadata": {},
   "outputs": [
    {
     "data": {
      "image/png": "[encoded data removed]",
      "text/plain": [
       "<Figure size 1000x600 with 1 Axes>"
      ]
     },
     "metadata": {},
     "output_type": "display_data"
    }
   ],
   "source": [
    "# code for plotting a time graph btwn quick select and quick sort for larger input sizes , algorithm of\n",
    "#quick sort and quick select were provided by us and the plotting code,and input generation is given\n",
    "#by chatgpt\n",
    "\n",
    "import random\n",
    "import time\n",
    "import matplotlib.pyplot as plt\n",
    "def quicksort(arr):\n",
    "    if len(arr) <= 1:\n",
    "        return arr\n",
    "    pivot = arr[len(arr) // 2]\n",
    "    left = [x for x in arr if x < pivot]\n",
    "    middle = [x for x in arr if x == pivot]\n",
    "    right = [x for x in arr if x > pivot]\n",
    "    return quicksort(left) + middle + quicksort(right)\n",
    "\n",
    "def quickselect(arr, k):\n",
    "    if len(arr) == 1:\n",
    "        return arr[0]\n",
    "    pivot = random.choice(arr)\n",
    "    low = [x for x in arr if x < pivot]\n",
    "    high = [x for x in arr if x > pivot]\n",
    "    equal = [x for x in arr if x == pivot]\n",
    "    \n",
    "    if k < len(low):\n",
    "        return quickselect(low, k)\n",
    "    elif k < len(low) + len(equal):\n",
    "        return equal[0]\n",
    "    else:\n",
    "        return quickselect(high, k - len(low) - len(equal))\n",
    "\n",
    "sorting_times = []\n",
    "n_values = [2**i for i in range(1,21,1)]  \n",
    "\n",
    "for n in n_values:\n",
    "    unsorted_array = [random.randint(1, 1000) for _ in range(n)]\n",
    "    start_time = time.time()\n",
    "    sorted_array = quicksort(unsorted_array)\n",
    "    end_time = time.time()\n",
    "    sorting_time = (end_time - start_time) * 1e6  \n",
    "    sorting_times.append(sorting_time)\n",
    "\n",
    "select_times = []\n",
    "\n",
    "for n in n_values:\n",
    "    unsorted_array = [random.randint(1, 1000) for _ in range(n)]\n",
    "    start_time = time.time()\n",
    "    _ = quickselect(unsorted_array, k)\n",
    "    end_time = time.time()\n",
    "    select_time = (end_time - start_time) * 1e6  \n",
    "    select_times.append(select_time)\n",
    "\n",
    "plt.figure(figsize=(10, 6))\n",
    "plt.plot(n_values, sorting_times, label=\"Algorithm A (QuickSort + Fetching)\")\n",
    "plt.plot(n_values, select_times, label=\"Algorithm B (QuickSelect)\")\n",
    "plt.xlabel(\"Input Size (n)\")\n",
    "plt.ylabel(\"Time (microseconds)\")\n",
    "plt.legend()\n",
    "plt.title(\"Time Complexity Comparison\")\n",
    "plt.grid(True)\n",
    "plt.yscale('log') \n",
    "plt.show()\n"
   ]
  },
  {
   "cell_type": "code",
   "execution_count": null,
   "id": "14904c47",
   "metadata": {},
   "outputs": [],
   "source": []
  }
 ],
 "metadata": {
  "kernelspec": {
   "display_name": "Python 3 (ipykernel)",
   "language": "python",
   "name": "python3"
  },
  "language_info": {
   "codemirror_mode": {
    "name": "ipython",
    "version": 3
   },
   "file_extension": ".py",
   "mimetype": "text/x-python",
   "name": "python",
   "nbconvert_exporter": "python",
   "pygments_lexer": "ipython3",
   "version": "3.10.9"
  }
 },
 "nbformat": 4,
 "nbformat_minor": 5
}
