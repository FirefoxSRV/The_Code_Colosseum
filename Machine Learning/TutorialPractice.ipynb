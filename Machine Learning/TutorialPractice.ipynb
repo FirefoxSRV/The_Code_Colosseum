{
  "nbformat": 4,
  "nbformat_minor": 0,
  "metadata": {
    "colab": {
      "provenance": []
    },
    "kernelspec": {
      "name": "python3",
      "display_name": "Python 3"
    },
    "language_info": {
      "name": "python"
    }
  },
  "cells": [
    {
      "cell_type": "markdown",
      "source": [
        "# Normal statistical intution"
      ],
      "metadata": {
        "id": "BHjAYEhY7ykO"
      }
    },
    {
      "cell_type": "code",
      "execution_count": 2,
      "metadata": {
        "id": "eMXn9UDQ2qLk"
      },
      "outputs": [],
      "source": [
        "import numpy as np\n",
        "import pandas as pd\n",
        "import matplotlib.pyplot as plt\n"
      ]
    },
    {
      "cell_type": "code",
      "source": [
        "x = np.array([43,21,25,42,57,59])\n",
        "y = np.array([99,65,79,75,87,81])\n",
        "n = len(x)"
      ],
      "metadata": {
        "id": "ypREnkf02ucE"
      },
      "execution_count": 9,
      "outputs": []
    },
    {
      "cell_type": "code",
      "source": [
        "sum_x = np.sum(x)\n",
        "sum_y = np.sum(y)"
      ],
      "metadata": {
        "id": "9LTwXSLv2_CY"
      },
      "execution_count": 10,
      "outputs": []
    },
    {
      "cell_type": "code",
      "source": [
        "sum_xx = np.sum(x*x)\n",
        "sum_yy = np.sum(y*y)\n",
        "sum_xy = np.sum(x*y)"
      ],
      "metadata": {
        "id": "pa3r23Ex3Lz8"
      },
      "execution_count": 11,
      "outputs": []
    },
    {
      "cell_type": "code",
      "source": [
        "beta0_num = sum_xx * sum_y - sum_x * sum_xy\n",
        "beta0_den = n*sum_xx - sum_x*sum_x\n",
        "beta0 = beta0_num / beta0_den\n",
        "\n",
        "beta1_num = n*sum_xy - sum_x*sum_y\n",
        "beta1_den = n*sum_xx - sum_x*sum_x\n",
        "beta1 = beta1_num/beta1_den\n",
        "print(\"Beta 1 :\" , beta1 , \"     Beta 0:\",beta0)"
      ],
      "metadata": {
        "colab": {
          "base_uri": "https://localhost:8080/"
        },
        "id": "rM5NsWpG3gpS",
        "outputId": "82cf62b6-9993-4293-e20b-326ac1c161d8"
      },
      "execution_count": 12,
      "outputs": [
        {
          "output_type": "stream",
          "name": "stdout",
          "text": [
            "Beta 1 : 6.491312741312742      Beta 0: 33.76833976833977\n"
          ]
        }
      ]
    },
    {
      "cell_type": "markdown",
      "source": [
        "# Ordinary Least Square"
      ],
      "metadata": {
        "id": "MkG7O6b98AoF"
      }
    },
    {
      "cell_type": "code",
      "source": [
        "x=np.array([6,10,2,4,6,7,0,1,8,5,3])\n",
        "n = len(x)\n",
        "y=np.array([82,88,56,64,77,92,23,41,80,59,47])\n",
        "\n",
        "b1_num = np.sum((x-np.mean(x))*(y-np.mean(y)))\n",
        "b1_deno = np.sum((x-np.mean(x))*(x-np.mean(x)))\n",
        "\n",
        "print(b1_num/b1_deno)"
      ],
      "metadata": {
        "colab": {
          "base_uri": "https://localhost:8080/"
        },
        "id": "QIL7gvIE8WsQ",
        "outputId": "e4ad5915-5519-4a7c-ccd7-0a3ab00b8cba"
      },
      "execution_count": 15,
      "outputs": [
        {
          "output_type": "stream",
          "name": "stdout",
          "text": [
            "6.491312741312742\n"
          ]
        }
      ]
    },
    {
      "cell_type": "code",
      "source": [
        "b0 = np.mean(y) - (b1_num/b1_deno)*np.mean(x)\n",
        "print(b0)"
      ],
      "metadata": {
        "colab": {
          "base_uri": "https://localhost:8080/"
        },
        "id": "i34oVGxr97_x",
        "outputId": "4ad5b674-3e90-49b7-f6b7-9d5531575c27"
      },
      "execution_count": 16,
      "outputs": [
        {
          "output_type": "stream",
          "name": "stdout",
          "text": [
            "33.768339768339764\n"
          ]
        }
      ]
    },
    {
      "cell_type": "code",
      "source": [],
      "metadata": {
        "id": "Ugdlgr_2_COm"
      },
      "execution_count": 14,
      "outputs": []
    }
  ]
}