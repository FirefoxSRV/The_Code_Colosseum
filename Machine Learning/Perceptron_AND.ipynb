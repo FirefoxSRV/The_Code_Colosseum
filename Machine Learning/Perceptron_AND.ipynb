{
  "nbformat": 4,
  "nbformat_minor": 0,
  "metadata": {
    "colab": {
      "provenance": []
    },
    "kernelspec": {
      "name": "python3",
      "display_name": "Python 3"
    },
    "language_info": {
      "name": "python"
    }
  },
  "cells": [
    {
      "cell_type": "code",
      "source": [
        "import numpy as np\n",
        "import pandas as pd"
      ],
      "metadata": {
        "id": "IkH7h1I9_gBl"
      },
      "execution_count": 1,
      "outputs": []
    },
    {
      "cell_type": "code",
      "execution_count": 11,
      "metadata": {
        "id": "IfMeVNae_TPb"
      },
      "outputs": [],
      "source": [
        "class Perceptron:\n",
        "    def __init__(self,lr=0.1,epochs=1000):\n",
        "        self.lr = lr\n",
        "        self.epochs = epochs\n",
        "        self.weights = None\n",
        "        self.bias = None\n",
        "\n",
        "    def fit(self,X,y):\n",
        "        X = np.array(X)\n",
        "        self.weights = np.zeros(len(X[0]))\n",
        "        self.bias = 0\n",
        "        for epoc in range(self.epochs):\n",
        "            for i in range(len(X)):\n",
        "                y_pred = self.Activation(np.dot(self.weights,X[i]) + self.bias)\n",
        "                self.weights+=(self.lr*(y[i]-y_pred)*X[i])\n",
        "                self.bias+=(self.lr*(y[i]-y_pred))\n",
        "\n",
        "    def Activation(self,y):\n",
        "        if y>0:\n",
        "            return 1\n",
        "        else:\n",
        "            return 0\n",
        "\n",
        "    def predict(self,X):\n",
        "        y_pred = []\n",
        "        for i in range(len(X)):\n",
        "            y_pred.append(self.Activation(np.dot(self.weights,X[i]) + self.bias))\n",
        "        return y_pred"
      ]
    },
    {
      "cell_type": "code",
      "source": [
        "model = Perceptron()\n",
        "X = [[0,0],[0,1],[1,0],[1,1]]\n",
        "y=[0,0,0,1]"
      ],
      "metadata": {
        "id": "_XQWRsMp_Z7V"
      },
      "execution_count": 12,
      "outputs": []
    },
    {
      "cell_type": "code",
      "source": [
        "model.fit(X,y)"
      ],
      "metadata": {
        "id": "4ffn4vqe_sKL"
      },
      "execution_count": 13,
      "outputs": []
    },
    {
      "cell_type": "code",
      "source": [
        "y = model.predict([[0,0]])\n",
        "y"
      ],
      "metadata": {
        "colab": {
          "base_uri": "https://localhost:8080/"
        },
        "id": "YJktfW5T_25Q",
        "outputId": "208e9578-cf04-441e-c866-34dd5c922cfd"
      },
      "execution_count": 18,
      "outputs": [
        {
          "output_type": "execute_result",
          "data": {
            "text/plain": [
              "[0]"
            ]
          },
          "metadata": {},
          "execution_count": 18
        }
      ]
    }
  ]
}